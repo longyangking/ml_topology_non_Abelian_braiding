{
 "cells": [
  {
   "cell_type": "code",
   "execution_count": 1,
   "metadata": {},
   "outputs": [
    {
     "data": {
      "text/plain": [
       "{'divide': 'warn', 'over': 'warn', 'under': 'ignore', 'invalid': 'warn'}"
      ]
     },
     "execution_count": 1,
     "metadata": {},
     "output_type": "execute_result"
    }
   ],
   "source": [
    "import sys \n",
    "sys.path.append(\"..\") \n",
    "import os\n",
    "import itertools\n",
    "\n",
    "import numpy as np\n",
    "from braiding_model import BraidOperator, show_braid_words\n",
    "from braiding_model import GeneratorBraid, obtain_model_braid, obtain_model_torus_knot\n",
    "from braiding_model import sigma_z, sigma_x, sigma_y, sigma_0\n",
    "from braiding_model import PerturbationModel\n",
    "\n",
    "from machine_learning import Classifier, Cluster\n",
    "from topology import topology_comparator, similarity_function\n",
    "from functools import partial\n",
    "\n",
    "import matplotlib.pyplot as plt\n",
    "\n",
    "p1 = PerturbationModel()\n",
    "p1.set_parameters(t1=0.1,t2=0.0)\n",
    "\n",
    "p2 = PerturbationModel()\n",
    "p2.set_parameters(t1=-0.1,t2=0.0)\n",
    "\n",
    "p3 = PerturbationModel()\n",
    "p3.set_parameters(t1=0.1,t2=0.1)\n",
    "\n",
    "p4 = PerturbationModel()\n",
    "p4.set_parameters(t1=0.0,t2=-0.1)\n",
    "\n",
    "perturbations = [p1,p2,p3,p4]\n",
    "\n",
    "np.seterr(all=\"ignore\") # ignore some numerical errors"
   ]
  },
  {
   "cell_type": "markdown",
   "metadata": {},
   "source": [
    "# Artin's topological equivalence relation 1"
   ]
  },
  {
   "cell_type": "code",
   "execution_count": 43,
   "metadata": {},
   "outputs": [
    {
     "data": {
      "text/markdown": [
       "$\\sigma_1$ $\\sigma_2$ $\\sigma_4$ $\\sigma_3$ "
      ],
      "text/plain": [
       "<IPython.core.display.Markdown object>"
      ]
     },
     "metadata": {},
     "output_type": "display_data"
    }
   ],
   "source": [
    "n_band = 5\n",
    "braid_operators_list = [BraidOperator(1), BraidOperator(2), BraidOperator(4), BraidOperator(3)]\n",
    "model0 = obtain_model_braid(n_band=n_band, braid_operators=braid_operators_list)\n",
    "\n",
    "show_braid_words(model0.get_braid_words())"
   ]
  },
  {
   "cell_type": "code",
   "execution_count": 44,
   "metadata": {},
   "outputs": [
    {
     "name": "stdout",
     "output_type": "stream",
     "text": [
      "The number of braids:  24\n"
     ]
    }
   ],
   "source": [
    "operator_cases = list(itertools.permutations(range(len(braid_operators_list)), len(braid_operators_list)))\n",
    "models = [obtain_model_braid(n_band=n_band, braid_operators=[braid_operators_list[i] for i in case]) for case in operator_cases]\n",
    "braid_operator_list_gen = [[braid_operators_list[i] for i in case] for case in operator_cases]\n",
    "print(\"The number of braids: \", len(braid_operator_list_gen))"
   ]
  },
  {
   "cell_type": "code",
   "execution_count": 45,
   "metadata": {},
   "outputs": [
    {
     "name": "stdout",
     "output_type": "stream",
     "text": [
      "Centers:  [4, 6, 0, 3, 7, 20, 1, 17]\n",
      "The number of samples:  [5, 5, 3, 3, 3, 3, 1, 1]\n"
     ]
    }
   ],
   "source": [
    "n_core = 16 # the numebr of cores used in computation\n",
    "func = partial(similarity_function, perturbations=perturbations)\n",
    "cluster = Cluster(similarity_function=func, n_core=n_core, verbose=False)\n",
    "center_indices, group_number, groups = cluster.fit(models)\n",
    "\n",
    "print(\"Centers: \", center_indices)\n",
    "print(\"The number of samples: \", group_number)"
   ]
  },
  {
   "cell_type": "code",
   "execution_count": 46,
   "metadata": {},
   "outputs": [
    {
     "name": "stdout",
     "output_type": "stream",
     "text": [
      "Center 0: similarity = 0\n",
      "Center 1: similarity = 0\n",
      "Center 2: similarity = 1\n",
      "Center 3: similarity = 0\n",
      "Center 4: similarity = 0\n",
      "Center 5: similarity = 0\n",
      "Center 6: similarity = 0\n",
      "Center 7: similarity = 0\n"
     ]
    }
   ],
   "source": [
    "for index, model in enumerate([models[index] for index in center_indices]):\n",
    "    print(\"Center {index}: similarity = {value}\".format(index=index, value=func(model, model0)))"
   ]
  },
  {
   "cell_type": "code",
   "execution_count": 47,
   "metadata": {},
   "outputs": [
    {
     "data": {
      "image/png": "[encoded data removed]",
      "text/plain": [
       "<Figure size 640x480 with 1 Axes>"
      ]
     },
     "metadata": {},
     "output_type": "display_data"
    }
   ],
   "source": [
    "fig = plt.figure()\n",
    "\n",
    "xticks = list(range(1,len(center_indices)+1, 5))\n",
    "yticks = [0, int(np.max(group_number)/2), int(np.max(group_number))]\n",
    "\n",
    "plt.bar(np.arange(len(group_number))+1, group_number)\n",
    "plt.xticks(xticks,fontsize=18)\n",
    "plt.yticks(yticks,fontsize=18)\n",
    "\n",
    "plt.xlim([0.5,len(center_indices)+0.5])\n",
    "plt.ylim([0, np.max(group_number)*1.1])\n",
    "\n",
    "plt.xlabel(r\"$c$\",fontsize=20)\n",
    "plt.ylabel(r\"$M$\",fontsize=20,rotation=0,horizontalalignment='right')\n",
    "plt.tight_layout()\n",
    "plt.savefig('Artin1.svg')"
   ]
  },
  {
   "cell_type": "code",
   "execution_count": 50,
   "metadata": {},
   "outputs": [
    {
     "name": "stdout",
     "output_type": "stream",
     "text": [
      "Origin : \n"
     ]
    },
    {
     "data": {
      "text/markdown": [
       "$\\sigma_1$ $\\sigma_2$ $\\sigma_4$ $\\sigma_3$ "
      ],
      "text/plain": [
       "<IPython.core.display.Markdown object>"
      ]
     },
     "metadata": {},
     "output_type": "display_data"
    },
    {
     "name": "stdout",
     "output_type": "stream",
     "text": [
      "---------------\n"
     ]
    },
    {
     "data": {
      "text/markdown": [
       "$\\sigma_1$ $\\sigma_3$ $\\sigma_2$ $\\sigma_4$ "
      ],
      "text/plain": [
       "<IPython.core.display.Markdown object>"
      ]
     },
     "metadata": {},
     "output_type": "display_data"
    },
    {
     "data": {
      "text/markdown": [
       "$\\sigma_1$ $\\sigma_3$ $\\sigma_4$ $\\sigma_2$ "
      ],
      "text/plain": [
       "<IPython.core.display.Markdown object>"
      ]
     },
     "metadata": {},
     "output_type": "display_data"
    },
    {
     "data": {
      "text/markdown": [
       "$\\sigma_3$ $\\sigma_1$ $\\sigma_2$ $\\sigma_4$ "
      ],
      "text/plain": [
       "<IPython.core.display.Markdown object>"
      ]
     },
     "metadata": {},
     "output_type": "display_data"
    },
    {
     "data": {
      "text/markdown": [
       "$\\sigma_3$ $\\sigma_1$ $\\sigma_4$ $\\sigma_2$ "
      ],
      "text/plain": [
       "<IPython.core.display.Markdown object>"
      ]
     },
     "metadata": {},
     "output_type": "display_data"
    },
    {
     "data": {
      "text/markdown": [
       "$\\sigma_3$ $\\sigma_4$ $\\sigma_1$ $\\sigma_2$ "
      ],
      "text/plain": [
       "<IPython.core.display.Markdown object>"
      ]
     },
     "metadata": {},
     "output_type": "display_data"
    }
   ],
   "source": [
    "print(\"Origin : \")\n",
    "show_braid_words(model0.get_braid_words())\n",
    "print(\"---------------\")\n",
    "\n",
    "index = 0\n",
    "for model in [models[index] for index in groups[index]]:\n",
    "    show_braid_words(model.get_braid_words())\n",
    "    #print(model.get_winding_matrix())"
   ]
  },
  {
   "cell_type": "markdown",
   "metadata": {},
   "source": [
    "# Save data"
   ]
  },
  {
   "cell_type": "code",
   "execution_count": 29,
   "metadata": {},
   "outputs": [],
   "source": [
    "directory_name = 'Artin'\n",
    "with open('./fig2/{directory_name}/Artin1_group_number.txt'.format(directory_name=directory_name),'w') as fileop: \n",
    "    fileop.write(str(group_number))"
   ]
  },
  {
   "cell_type": "code",
   "execution_count": 30,
   "metadata": {},
   "outputs": [],
   "source": [
    "for i, group in enumerate(groups):\n",
    "    with open('./fig2/{directory_name}/Artin1_{i}.txt'.format(directory_name=directory_name, i=i),'w') as fileop: \n",
    "        for model in [models[index] for index in groups[i]]:\n",
    "            fileop.write(str([(op.get_n(), op.get_is_inverse()) for op in model.get_braid_words()])+'\\n')"
   ]
  },
  {
   "cell_type": "markdown",
   "metadata": {},
   "source": [
    "# Artin's topological equivalence condition 2"
   ]
  },
  {
   "cell_type": "code",
   "execution_count": 89,
   "metadata": {},
   "outputs": [
    {
     "data": {
      "text/markdown": [
       "$\\sigma_1$ $\\sigma_2$ $\\sigma_1$ $\\sigma_2$ $\\sigma_1$ "
      ],
      "text/plain": [
       "<IPython.core.display.Markdown object>"
      ]
     },
     "metadata": {},
     "output_type": "display_data"
    }
   ],
   "source": [
    "n_band = 3\n",
    "braid_operator_list = [BraidOperator(1), BraidOperator(2),  BraidOperator(1), BraidOperator(2), BraidOperator(1)]\n",
    "model0 = obtain_model_braid(n_band=n_band, braid_operators=braid_operator_list)\n",
    "\n",
    "show_braid_words(model0.get_braid_words())"
   ]
  },
  {
   "cell_type": "code",
   "execution_count": 26,
   "metadata": {
    "scrolled": true
   },
   "outputs": [
    {
     "name": "stdout",
     "output_type": "stream",
     "text": [
      "The number of braids:  216\n"
     ]
    }
   ],
   "source": [
    "# operator_cases = list(itertools.permutations(range(len(braid_operators_list)), len(braid_operators_list)))\n",
    "# models = [obtain_model_braid(n_band=n_band, braid_operators=[braid_operators_list[i] for i in case]) for case in operator_cases]\n",
    "# braid_operator_list_gen = [[braid_operators_list[i] for i in case] for case in operator_cases]\n",
    "\n",
    "n_band = 4\n",
    "braid_operator_list = [BraidOperator(1), BraidOperator(2), BraidOperator(3), \n",
    "                       BraidOperator(1, True), BraidOperator(2, True), BraidOperator(3, True)]\n",
    "generator = GeneratorBraid(n_band=n_band, braid_operator_list=braid_operator_list)\n",
    "\n",
    "models, braid_operator_list_gen = generator.get_all_combination_generate_sample(3)\n",
    "print(\"The number of braids: \", len(braid_operator_list_gen))\n",
    "# for operator_list in braid_operator_list_gen[:3]:\n",
    "#     show_braid_words(operator_list)"
   ]
  },
  {
   "cell_type": "code",
   "execution_count": 27,
   "metadata": {},
   "outputs": [
    {
     "name": "stdout",
     "output_type": "stream",
     "text": [
      "Centers:  [23, 21, 3, 15, 19, 22, 14, 143, 87, 131, 5, 93, 2, 35, 91, 49, 167, 142, 83, 51, 52, 58, 59, 67, 70, 160, 159, 41, 40, 31, 178, 117, 6, 135, 101, 9, 38, 16, 13, 27, 139, 94, 149, 34, 24, 146, 137, 136, 134, 144, 172, 165, 168, 170, 171, 173, 179, 186, 187, 189, 204, 207, 208, 211, 158, 130, 0, 127, 1, 4, 7, 8, 11, 26, 28, 29, 36, 42, 43, 44, 45, 47, 129, 50, 71, 78, 79, 81, 214, 85, 86, 88, 96, 99, 100, 115, 116, 119, 57, 215]\n",
      "The number of samples:  [13, 13, 13, 13, 11, 11, 3, 3, 3, 3, 3, 3, 3, 3, 2, 2, 2, 2, 2, 2, 2, 2, 2, 2, 2, 2, 2, 2, 2, 2, 2, 2, 2, 2, 2, 2, 2, 2, 2, 2, 2, 2, 2, 2, 2, 2, 1, 1, 1, 1, 1, 1, 1, 1, 1, 1, 1, 1, 1, 1, 1, 1, 1, 1, 1, 1, 1, 1, 1, 1, 1, 1, 1, 1, 1, 1, 1, 1, 1, 1, 1, 1, 1, 1, 1, 1, 1, 1, 1, 1, 1, 1, 1, 1, 1, 1, 1, 1, 1, 1]\n"
     ]
    }
   ],
   "source": [
    "n_core = 64 # the numebr of cores used in computation\n",
    "fast_mode = True\n",
    "func = partial(similarity_function, perturbations=perturbations, fast_mode=fast_mode)\n",
    "cluster = Cluster(similarity_function=func, n_core=n_core, verbose=False)\n",
    "center_indices, group_number, groups = cluster.fit(models)\n",
    "\n",
    "print(\"Centers: \", center_indices)\n",
    "print(\"The number of samples: \", group_number)"
   ]
  },
  {
   "cell_type": "code",
   "execution_count": 36,
   "metadata": {},
   "outputs": [
    {
     "data": {
      "image/png": "[encoded data removed]",
      "text/plain": [
       "<Figure size 640x480 with 1 Axes>"
      ]
     },
     "metadata": {},
     "output_type": "display_data"
    }
   ],
   "source": [
    "fig = plt.figure()\n",
    "\n",
    "xticks = list(range(1,len(center_indices)+1, 20))\n",
    "yticks = [0, int(np.max(group_number)/2), int(np.max(group_number))]\n",
    "\n",
    "plt.bar(np.arange(len(group_number))+1, group_number)\n",
    "plt.xticks(xticks,fontsize=18)\n",
    "plt.yticks(yticks,fontsize=18)\n",
    "\n",
    "plt.xlim([0.5,len(center_indices)+0.5])\n",
    "plt.ylim([0, np.max(group_number)*1.1])\n",
    "\n",
    "plt.xlabel(r\"$c$\",fontsize=20)\n",
    "plt.ylabel(r\"$M$\",fontsize=20,rotation=0,horizontalalignment='right')\n",
    "plt.tight_layout()\n",
    "plt.savefig('Artin2.svg')"
   ]
  },
  {
   "cell_type": "code",
   "execution_count": 54,
   "metadata": {},
   "outputs": [
    {
     "data": {
      "text/markdown": [
       "$\\sigma_2$ $\\sigma_3$ $\\sigma_2$ "
      ],
      "text/plain": [
       "<IPython.core.display.Markdown object>"
      ]
     },
     "metadata": {},
     "output_type": "display_data"
    },
    {
     "data": {
      "text/markdown": [
       "$\\sigma_3$ $\\sigma_2$ $\\sigma_3$ "
      ],
      "text/plain": [
       "<IPython.core.display.Markdown object>"
      ]
     },
     "metadata": {},
     "output_type": "display_data"
    }
   ],
   "source": [
    "index = 15\n",
    "for model in [models[index] for index in groups[index]]:\n",
    "    show_braid_words(model.get_braid_words())\n",
    "    #print(model.get_winding_matrix())"
   ]
  },
  {
   "cell_type": "markdown",
   "metadata": {},
   "source": [
    "# Save data"
   ]
  },
  {
   "cell_type": "code",
   "execution_count": 29,
   "metadata": {},
   "outputs": [],
   "source": [
    "directory_name = 'Artin'\n",
    "with open('./fig2/{directory_name}/Artin2_group_number.txt'.format(directory_name=directory_name),'w') as fileop: \n",
    "    fileop.write(str(group_number))"
   ]
  },
  {
   "cell_type": "code",
   "execution_count": 30,
   "metadata": {},
   "outputs": [],
   "source": [
    "for i, group in enumerate(groups):\n",
    "    with open('./fig2/{directory_name}/Artin2_{i}.txt'.format(directory_name=directory_name, i=i),'w') as fileop: \n",
    "        for model in [models[index] for index in groups[i]]:\n",
    "            fileop.write(str([(op.get_n(), op.get_is_inverse()) for op in model.get_braid_words()])+'\\n')"
   ]
  },
  {
   "cell_type": "markdown",
   "metadata": {},
   "source": [
    "# Artin's topological equivalence condition"
   ]
  },
  {
   "cell_type": "code",
   "execution_count": 2,
   "metadata": {},
   "outputs": [
    {
     "data": {
      "text/markdown": [
       "$\\sigma_1$ $\\sigma_2$ $\\sigma_1$ $\\sigma_2$ $\\sigma_1$ "
      ],
      "text/plain": [
       "<IPython.core.display.Markdown object>"
      ]
     },
     "metadata": {},
     "output_type": "display_data"
    }
   ],
   "source": [
    "n_band = 3\n",
    "braid_operator_list = [BraidOperator(1), BraidOperator(2),  BraidOperator(1), BraidOperator(2), BraidOperator(1)]\n",
    "model0 = obtain_model_braid(n_band=n_band, braid_operators=braid_operator_list)\n",
    "\n",
    "show_braid_words(model0.get_braid_words())"
   ]
  },
  {
   "cell_type": "code",
   "execution_count": 3,
   "metadata": {
    "scrolled": true
   },
   "outputs": [
    {
     "name": "stdout",
     "output_type": "stream",
     "text": [
      "The number of braids:  100\n"
     ]
    },
    {
     "data": {
      "text/markdown": [
       "$\\sigma^{-1}_1$ $\\sigma_2$ "
      ],
      "text/plain": [
       "<IPython.core.display.Markdown object>"
      ]
     },
     "metadata": {},
     "output_type": "display_data"
    },
    {
     "data": {
      "text/markdown": [
       "$\\sigma^{-1}_1$ $\\sigma^{-1}_2$ $\\sigma_1$ "
      ],
      "text/plain": [
       "<IPython.core.display.Markdown object>"
      ]
     },
     "metadata": {},
     "output_type": "display_data"
    },
    {
     "data": {
      "text/markdown": [
       "$\\sigma^{-1}_1$ $\\sigma_1$ $\\sigma^{-1}_1$ $\\sigma^{-1}_2$ $\\sigma^{-1}_2$ "
      ],
      "text/plain": [
       "<IPython.core.display.Markdown object>"
      ]
     },
     "metadata": {},
     "output_type": "display_data"
    }
   ],
   "source": [
    "n_band = 3\n",
    "braid_operator_list = [BraidOperator(1), BraidOperator(2),  BraidOperator(1, True), BraidOperator(2, True)]\n",
    "generator = GeneratorBraid(n_band=n_band, braid_operator_list=braid_operator_list)\n",
    "\n",
    "models, braid_operator_list_gen = generator.get_random_generate_sample(100, n_max_operator=6)\n",
    "print(\"The number of braids: \", len(braid_operator_list_gen))\n",
    "for operator_list in braid_operator_list_gen[:3]:\n",
    "    show_braid_words(operator_list)"
   ]
  },
  {
   "cell_type": "code",
   "execution_count": 4,
   "metadata": {},
   "outputs": [
    {
     "name": "stdout",
     "output_type": "stream",
     "text": [
      "Centers:  [10, 13, 5, 11, 0, 6, 30, 3, 1, 19, 54, 88, 2, 15, 16, 21, 53, 26, 72, 66, 70, 75, 7, 79, 82, 84, 89, 77, 86, 37, 47, 46, 4, 36, 35, 92, 29, 25, 23, 9, 8, 58, 99]\n",
      "The number of samples:  [11, 9, 8, 7, 5, 4, 4, 4, 3, 3, 2, 2, 2, 2, 2, 2, 2, 2, 2, 1, 1, 1, 1, 1, 1, 1, 1, 1, 1, 1, 1, 1, 1, 1, 1, 1, 1, 1, 1, 1, 1, 1, 1]\n"
     ]
    }
   ],
   "source": [
    "n_core = 32 # the numebr of cores used in computation\n",
    "fast_mode = True\n",
    "func = partial(similarity_function, perturbations=perturbations, fast_mode=fast_mode)\n",
    "cluster = Cluster(similarity_function=func, n_core=n_core, verbose=False)\n",
    "center_indices, group_number, groups = cluster.fit(models)\n",
    "\n",
    "print(\"Centers: \", center_indices)\n",
    "print(\"The number of samples: \", group_number)"
   ]
  },
  {
   "cell_type": "code",
   "execution_count": 5,
   "metadata": {},
   "outputs": [
    {
     "data": {
      "image/png": "[encoded data removed]",
      "text/plain": [
       "<Figure size 640x480 with 1 Axes>"
      ]
     },
     "metadata": {},
     "output_type": "display_data"
    }
   ],
   "source": [
    "fig = plt.figure()\n",
    "\n",
    "xticks = list(range(1,len(center_indices)+1, 5))\n",
    "yticks = [0, int(np.max(group_number)/2), int(np.max(group_number))]\n",
    "\n",
    "plt.bar(np.arange(len(group_number))+1, group_number)\n",
    "plt.xticks(xticks,fontsize=18)\n",
    "plt.yticks(yticks,fontsize=18)\n",
    "\n",
    "plt.xlim([0.5,len(center_indices)+0.5])\n",
    "plt.ylim([0, np.max(group_number)*1.1])\n",
    "\n",
    "plt.xlabel(r\"$c$\",fontsize=20)\n",
    "plt.ylabel(r\"$M$\",fontsize=20,rotation=0,horizontalalignment='right')\n",
    "plt.tight_layout()\n",
    "plt.savefig('Artin2.svg')"
   ]
  },
  {
   "cell_type": "code",
   "execution_count": 7,
   "metadata": {},
   "outputs": [
    {
     "data": {
      "text/markdown": [
       "$\\sigma^{-1}_2$ "
      ],
      "text/plain": [
       "<IPython.core.display.Markdown object>"
      ]
     },
     "metadata": {},
     "output_type": "display_data"
    },
    {
     "data": {
      "text/markdown": [
       "$\\sigma^{-1}_2$ "
      ],
      "text/plain": [
       "<IPython.core.display.Markdown object>"
      ]
     },
     "metadata": {},
     "output_type": "display_data"
    },
    {
     "data": {
      "text/markdown": [
       "$\\sigma^{-1}_2$ "
      ],
      "text/plain": [
       "<IPython.core.display.Markdown object>"
      ]
     },
     "metadata": {},
     "output_type": "display_data"
    },
    {
     "data": {
      "text/markdown": [
       "$\\sigma^{-1}_1$ $\\sigma_1$ $\\sigma^{-1}_1$ $\\sigma_1$ $\\sigma^{-1}_2$ "
      ],
      "text/plain": [
       "<IPython.core.display.Markdown object>"
      ]
     },
     "metadata": {},
     "output_type": "display_data"
    },
    {
     "data": {
      "text/markdown": [
       "$\\sigma_1$ $\\sigma^{-1}_1$ $\\sigma^{-1}_2$ "
      ],
      "text/plain": [
       "<IPython.core.display.Markdown object>"
      ]
     },
     "metadata": {},
     "output_type": "display_data"
    },
    {
     "data": {
      "text/markdown": [
       "$\\sigma^{-1}_2$ "
      ],
      "text/plain": [
       "<IPython.core.display.Markdown object>"
      ]
     },
     "metadata": {},
     "output_type": "display_data"
    },
    {
     "data": {
      "text/markdown": [
       "$\\sigma^{-1}_2$ "
      ],
      "text/plain": [
       "<IPython.core.display.Markdown object>"
      ]
     },
     "metadata": {},
     "output_type": "display_data"
    },
    {
     "data": {
      "text/markdown": [
       "$\\sigma^{-1}_2$ "
      ],
      "text/plain": [
       "<IPython.core.display.Markdown object>"
      ]
     },
     "metadata": {},
     "output_type": "display_data"
    },
    {
     "data": {
      "text/markdown": [
       "$\\sigma^{-1}_1$ $\\sigma_1$ $\\sigma^{-1}_2$ "
      ],
      "text/plain": [
       "<IPython.core.display.Markdown object>"
      ]
     },
     "metadata": {},
     "output_type": "display_data"
    },
    {
     "data": {
      "text/markdown": [
       "$\\sigma^{-1}_2$ "
      ],
      "text/plain": [
       "<IPython.core.display.Markdown object>"
      ]
     },
     "metadata": {},
     "output_type": "display_data"
    },
    {
     "data": {
      "text/markdown": [
       "$\\sigma^{-1}_2$ $\\sigma^{-1}_2$ $\\sigma_2$ "
      ],
      "text/plain": [
       "<IPython.core.display.Markdown object>"
      ]
     },
     "metadata": {},
     "output_type": "display_data"
    }
   ],
   "source": [
    "index = 0\n",
    "for model in [models[index] for index in groups[index]]:\n",
    "    show_braid_words(model.get_braid_words())\n",
    "    #print(model.get_winding_matrix())"
   ]
  },
  {
   "cell_type": "code",
   "execution_count": 16,
   "metadata": {},
   "outputs": [
    {
     "data": {
      "text/markdown": [
       "$\\sigma_1$ $\\sigma_2$ $\\sigma_1$ "
      ],
      "text/plain": [
       "<IPython.core.display.Markdown object>"
      ]
     },
     "metadata": {},
     "output_type": "display_data"
    },
    {
     "data": {
      "text/markdown": [
       "$\\sigma_2$ $\\sigma_1$ $\\sigma_2$ "
      ],
      "text/plain": [
       "<IPython.core.display.Markdown object>"
      ]
     },
     "metadata": {},
     "output_type": "display_data"
    }
   ],
   "source": [
    "index = 10\n",
    "for model in [models[index] for index in groups[index]]:\n",
    "    show_braid_words(model.get_braid_words())"
   ]
  },
  {
   "cell_type": "code",
   "execution_count": null,
   "metadata": {},
   "outputs": [],
   "source": []
  }
 ],
 "metadata": {
  "kernelspec": {
   "display_name": "Python 3 (ipykernel)",
   "language": "python",
   "name": "python3"
  },
  "language_info": {
   "codemirror_mode": {
    "name": "ipython",
    "version": 3
   },
   "file_extension": ".py",
   "mimetype": "text/x-python",
   "name": "python",
   "nbconvert_exporter": "python",
   "pygments_lexer": "ipython3",
   "version": "3.8.13"
  }
 },
 "nbformat": 4,
 "nbformat_minor": 2
}
