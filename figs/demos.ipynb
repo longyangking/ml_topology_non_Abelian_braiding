{
 "cells": [
  {
   "cell_type": "code",
   "execution_count": 2,
   "metadata": {},
   "outputs": [
    {
     "name": "stdout",
     "output_type": "stream",
     "text": [
      "Numpy version:  1.26.3\n",
      "Scipy version:  1.11.4\n",
      "Numba version:  0.58.1\n",
      "Matplotlib version:  3.8.0\n"
     ]
    }
   ],
   "source": [
    "import sys \n",
    "sys.path.append(\"..\") \n",
    "\n",
    "import numpy as np\n",
    "import scipy as sp\n",
    "import numba as nb\n",
    "\n",
    "\n",
    "from braiding_model import BraidOperator, show_braid_words\n",
    "from braiding_model import GeneratorBraid, obtain_model_braid, obtain_model_torus_knot\n",
    "from braiding_model import sigma_z, sigma_x, sigma_y, sigma_0\n",
    "from braiding_model import PerturbationModel\n",
    "\n",
    "from machine_learning import Classifier, Cluster\n",
    "from topology import topology_comparator, similarity_function\n",
    "from functools import partial\n",
    "\n",
    "import matplotlib\n",
    "import matplotlib.pyplot as plt\n",
    "\n",
    "p1 = PerturbationModel()\n",
    "p1.set_parameters(t1=0.1,t2=0.0)\n",
    "\n",
    "p2 = PerturbationModel()\n",
    "p2.set_parameters(t1=-0.1,t2=0.0)\n",
    "\n",
    "p3 = PerturbationModel()\n",
    "p3.set_parameters(t1=0.1,t2=0.1)\n",
    "\n",
    "p4 = PerturbationModel()\n",
    "p4.set_parameters(t1=0.0,t2=-0.1)\n",
    "\n",
    "perturbations = [p1,p2,p3,p4]\n",
    "\n",
    "print(\"Numpy version: \", np.__version__)\n",
    "print(\"Scipy version: \", sp.__version__)\n",
    "print(\"Numba version: \", nb.__version__)\n",
    "print(\"Matplotlib version: \", matplotlib.__version__)"
   ]
  },
  {
   "cell_type": "markdown",
   "metadata": {},
   "source": [
    "# Identify: $\\sigma_1$ and $\\sigma_1^{-1}$"
   ]
  },
  {
   "cell_type": "code",
   "execution_count": 2,
   "metadata": {},
   "outputs": [
    {
     "data": {
      "text/markdown": [
       "$\\sigma_1$ "
      ],
      "text/plain": [
       "<IPython.core.display.Markdown object>"
      ]
     },
     "metadata": {},
     "output_type": "display_data"
    },
    {
     "data": {
      "text/markdown": [
       "$\\sigma^{-1}_1$ "
      ],
      "text/plain": [
       "<IPython.core.display.Markdown object>"
      ]
     },
     "metadata": {},
     "output_type": "display_data"
    },
    {
     "name": "stdout",
     "output_type": "stream",
     "text": [
      "Topologically distinct\n"
     ]
    }
   ],
   "source": [
    "H1 = obtain_model_braid(n_band=2, braid_operators=[BraidOperator(1)])\n",
    "show_braid_words(H1.get_braid_words())\n",
    "\n",
    "H2 = obtain_model_braid(n_band=2, braid_operators=[BraidOperator(-1)])\n",
    "show_braid_words(H2.get_braid_words())\n",
    "\n",
    "func = partial(similarity_function, perturbations=perturbations)\n",
    "if func(H1, H2):\n",
    "    print(\"Topologically identical\")\n",
    "else:\n",
    "    print(\"Topologically distinct\")"
   ]
  },
  {
   "cell_type": "markdown",
   "metadata": {},
   "source": [
    "# Identify: $\\sigma_1\\sigma_1^{-1}$ and the braid identity element $e$"
   ]
  },
  {
   "cell_type": "code",
   "execution_count": 3,
   "metadata": {},
   "outputs": [
    {
     "data": {
      "text/markdown": [
       "$\\sigma^{-1}_1$ $\\sigma_1$ "
      ],
      "text/plain": [
       "<IPython.core.display.Markdown object>"
      ]
     },
     "metadata": {},
     "output_type": "display_data"
    },
    {
     "data": {
      "text/markdown": [
       "$e$"
      ],
      "text/plain": [
       "<IPython.core.display.Markdown object>"
      ]
     },
     "metadata": {},
     "output_type": "display_data"
    },
    {
     "name": "stdout",
     "output_type": "stream",
     "text": [
      "Topologically identical\n"
     ]
    }
   ],
   "source": [
    "H1 = obtain_model_braid(n_band=2, braid_operators=[BraidOperator(1), BraidOperator(-1)])\n",
    "show_braid_words(H1.get_braid_words())\n",
    "\n",
    "H2 = obtain_model_braid(n_band=2, braid_operators=[])\n",
    "show_braid_words(H2.get_braid_words())\n",
    "\n",
    "func = partial(similarity_function, perturbations=perturbations)\n",
    "if func(H1, H2):\n",
    "    print(\"Topologically identical\")\n",
    "else:\n",
    "    print(\"Topologically distinct\")"
   ]
  },
  {
   "cell_type": "markdown",
   "metadata": {},
   "source": [
    "# Identify: $\\sigma_1^{-1}\\sigma_1$ and the braid identity element $e$"
   ]
  },
  {
   "cell_type": "code",
   "execution_count": 4,
   "metadata": {},
   "outputs": [
    {
     "data": {
      "text/markdown": [
       "$\\sigma_1$ $\\sigma^{-1}_1$ "
      ],
      "text/plain": [
       "<IPython.core.display.Markdown object>"
      ]
     },
     "metadata": {},
     "output_type": "display_data"
    },
    {
     "data": {
      "text/markdown": [
       "$e$"
      ],
      "text/plain": [
       "<IPython.core.display.Markdown object>"
      ]
     },
     "metadata": {},
     "output_type": "display_data"
    },
    {
     "name": "stdout",
     "output_type": "stream",
     "text": [
      "Topologically identical\n"
     ]
    }
   ],
   "source": [
    "H1 = obtain_model_braid(n_band=2, braid_operators=[BraidOperator(-1), BraidOperator(1)])\n",
    "show_braid_words(H1.get_braid_words())\n",
    "\n",
    "H2 = obtain_model_braid(n_band=2, braid_operators=[])\n",
    "show_braid_words(H2.get_braid_words())\n",
    "\n",
    "func = partial(similarity_function, perturbations=perturbations)\n",
    "if func(H1, H2):\n",
    "    print(\"Topologically identical\")\n",
    "else:\n",
    "    print(\"Topologically distinct\")"
   ]
  },
  {
   "cell_type": "markdown",
   "metadata": {},
   "source": [
    "# Identify: $\\sigma_2^{-1}\\sigma_1\\sigma_1\\sigma_2$ and $\\sigma_2\\sigma_2$"
   ]
  },
  {
   "cell_type": "code",
   "execution_count": 5,
   "metadata": {},
   "outputs": [
    {
     "data": {
      "text/markdown": [
       "$\\sigma^{-1}_2$ $\\sigma_1$ $\\sigma_1$ $\\sigma_2$ "
      ],
      "text/plain": [
       "<IPython.core.display.Markdown object>"
      ]
     },
     "metadata": {},
     "output_type": "display_data"
    },
    {
     "data": {
      "text/markdown": [
       "$\\sigma_2$ $\\sigma_2$ "
      ],
      "text/plain": [
       "<IPython.core.display.Markdown object>"
      ]
     },
     "metadata": {},
     "output_type": "display_data"
    },
    {
     "name": "stdout",
     "output_type": "stream",
     "text": [
      "Topologically distinct\n"
     ]
    }
   ],
   "source": [
    "H1 = obtain_model_braid(n_band=3, braid_operators=[\n",
    "    BraidOperator(2), BraidOperator(1), BraidOperator(1), BraidOperator(-2)\n",
    "    ])\n",
    "show_braid_words(H1.get_braid_words())\n",
    "\n",
    "H2 = obtain_model_braid(n_band=3, braid_operators=[\n",
    "    BraidOperator(2), BraidOperator(2)\n",
    "])\n",
    "show_braid_words(H2.get_braid_words())\n",
    "\n",
    "func = partial(similarity_function, perturbations=perturbations)\n",
    "if func(H1, H2):\n",
    "    print(\"Topologically identical\")\n",
    "else:\n",
    "    print(\"Topologically distinct\")"
   ]
  }
 ],
 "metadata": {
  "kernelspec": {
   "display_name": "base",
   "language": "python",
   "name": "python3"
  },
  "language_info": {
   "codemirror_mode": {
    "name": "ipython",
    "version": 3
   },
   "file_extension": ".py",
   "mimetype": "text/x-python",
   "name": "python",
   "nbconvert_exporter": "python",
   "pygments_lexer": "ipython3",
   "version": "3.9.18"
  }
 },
 "nbformat": 4,
 "nbformat_minor": 2
}
