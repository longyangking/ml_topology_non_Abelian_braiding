{
 "cells": [
  {
   "cell_type": "code",
   "execution_count": 1,
   "id": "3b1e5305",
   "metadata": {},
   "outputs": [
    {
     "data": {
      "text/plain": [
       "{'divide': 'warn', 'over': 'warn', 'under': 'ignore', 'invalid': 'warn'}"
      ]
     },
     "execution_count": 1,
     "metadata": {},
     "output_type": "execute_result"
    }
   ],
   "source": [
    "import sys \n",
    "sys.path.append(\"..\") \n",
    "\n",
    "import numpy as np\n",
    "import numpy.linalg as LA\n",
    "from braiding_model import BraidOperator, show_braid_words\n",
    "from braiding_model import GeneratorBraid, obtain_model_braid, obtain_model_torus_knot\n",
    "from braiding_model import sigma_z, sigma_x, sigma_y, sigma_0\n",
    "from braiding_model import PerturbationModel\n",
    "from braiding_model import obtain_non_Hermitian_Hamiltonian, obtain_non_Hermitian_model\n",
    "\n",
    "from machine_learning import Classifier, Cluster\n",
    "from topology import topology_comparator, similarity_function\n",
    "from functools import partial\n",
    "\n",
    "import matplotlib.pyplot as plt\n",
    "\n",
    "p1 = PerturbationModel()\n",
    "p1.set_parameters(t1=0.1,t2=0.0)\n",
    "\n",
    "p2 = PerturbationModel()\n",
    "p2.set_parameters(t1=-0.1,t2=0.0)\n",
    "\n",
    "p3 = PerturbationModel()\n",
    "p3.set_parameters(t1=0.1,t2=0.1)\n",
    "\n",
    "p4 = PerturbationModel()\n",
    "p4.set_parameters(t1=0.0,t2=-0.1)\n",
    "\n",
    "perturbations = [p1,p2,p3,p4]\n",
    "\n",
    "np.seterr(all=\"ignore\") # ignore some numerical errors"
   ]
  },
  {
   "cell_type": "markdown",
   "id": "ca4a3f00",
   "metadata": {},
   "source": [
    "__Winding matrix__:\n",
    "\n",
    "    + Gauge dependent: deformation leads to an identical braid but results in a different winding matrix\n",
    "    + Label dependent: elements change when the labels change"
   ]
  },
  {
   "cell_type": "markdown",
   "id": "aa19d3da",
   "metadata": {},
   "source": [
    "# Unknot"
   ]
  },
  {
   "cell_type": "code",
   "execution_count": 2,
   "id": "2b233dc4",
   "metadata": {},
   "outputs": [
    {
     "data": {
      "text/plain": [
       "array([[ 0. , -0.5, -0.5],\n",
       "       [-0.5,  0. , -0. ],\n",
       "       [-0.5, -0. ,  0. ]])"
      ]
     },
     "execution_count": 2,
     "metadata": {},
     "output_type": "execute_result"
    }
   ],
   "source": [
    "def func(k):\n",
    "    H = np.array([\n",
    "        [0, 0, 1j*np.exp(-1j*k)],\n",
    "        [1, 0, 0],\n",
    "        [0, 1, 0]\n",
    "    ])\n",
    "    return H\n",
    "\n",
    "n_band = len(func(0))\n",
    "#hamiltonian = obtain_non_Hermitian_Hamiltonian(n_band=n_band, func=func, compress_ratio=0.75)\n",
    "model =  obtain_non_Hermitian_model(n_band=n_band, func=func, compress_ratio=0.8)\n",
    "model.get_winding_matrix()"
   ]
  },
  {
   "cell_type": "code",
   "execution_count": 7,
   "id": "ba8733e1",
   "metadata": {},
   "outputs": [
    {
     "data": {
      "text/plain": [
       "array([[ 0. , -0.5, -0.5],\n",
       "       [-0.5,  0. ,  0. ],\n",
       "       [-0.5,  0. ,  0. ]])"
      ]
     },
     "execution_count": 7,
     "metadata": {},
     "output_type": "execute_result"
    }
   ],
   "source": [
    "braid_operators = [BraidOperator(1), BraidOperator(2)]\n",
    "model =  obtain_model_braid(n_band, braid_operators)\n",
    "model.get_winding_matrix()"
   ]
  },
  {
   "cell_type": "code",
   "execution_count": 48,
   "id": "14ec3cb4",
   "metadata": {},
   "outputs": [
    {
     "data": {
      "text/plain": [
       "array([[ 0. , -0.5, -0.5],\n",
       "       [-0.5,  0. , -1. ],\n",
       "       [-0.5, -1. ,  0. ]])"
      ]
     },
     "execution_count": 48,
     "metadata": {},
     "output_type": "execute_result"
    }
   ],
   "source": [
    "def func(k):\n",
    "    H = np.array([\n",
    "        [0, 0, np.exp(-2j*k)],\n",
    "        [1, 0, 0],\n",
    "        [0, 1, 0]\n",
    "    ])\n",
    "    return H\n",
    "\n",
    "n_band = len(func(0))\n",
    "#hamiltonian = obtain_non_Hermitian_Hamiltonian(n_band=n_band, func=func, compress_ratio=0.75)\n",
    "model =  obtain_non_Hermitian_model(n_band=n_band, func=func, compress_ratio=0.8)\n",
    "model.get_winding_matrix()"
   ]
  },
  {
   "cell_type": "code",
   "execution_count": 50,
   "id": "32375a6e",
   "metadata": {},
   "outputs": [
    {
     "data": {
      "text/plain": [
       "array([[ 0. , -0.5, -0.5],\n",
       "       [-0.5,  0. , -1. ],\n",
       "       [-0.5, -1. ,  0. ]])"
      ]
     },
     "execution_count": 50,
     "metadata": {},
     "output_type": "execute_result"
    }
   ],
   "source": [
    "braid_operators = [BraidOperator(2), BraidOperator(1),BraidOperator(2), BraidOperator(1)]\n",
    "model =  obtain_model_braid(n_band, braid_operators)\n",
    "model.get_winding_matrix()"
   ]
  },
  {
   "cell_type": "code",
   "execution_count": 52,
   "id": "d1ae27a4",
   "metadata": {},
   "outputs": [
    {
     "data": {
      "text/plain": [
       "array([[ 0. , -0.5, -0.5],\n",
       "       [-0.5,  0. ,  0. ],\n",
       "       [-0.5,  0. ,  0. ]])"
      ]
     },
     "execution_count": 52,
     "metadata": {},
     "output_type": "execute_result"
    }
   ],
   "source": [
    "def func(k):\n",
    "    H = np.array([\n",
    "        [0, 0, -np.exp(-1j*k)],\n",
    "        [1, 0, 0],\n",
    "        [0, 1, 0]\n",
    "    ])\n",
    "    return H\n",
    "\n",
    "n_band = len(func(0))\n",
    "#hamiltonian = obtain_non_Hermitian_Hamiltonian(n_band=n_band, func=func, compress_ratio=0.75)\n",
    "model =  obtain_non_Hermitian_model(n_band=n_band, func=func, compress_ratio=0.8)\n",
    "model.get_winding_matrix()"
   ]
  },
  {
   "cell_type": "code",
   "execution_count": 56,
   "id": "e324872e",
   "metadata": {},
   "outputs": [
    {
     "name": "stdout",
     "output_type": "stream",
     "text": [
      "[[ 0.   -0.41 -0.29]\n",
      " [-0.41  0.   -0.29]\n",
      " [-0.29 -0.29  0.  ]]\n",
      "[[ 0.  -0.5 -0.5]\n",
      " [-0.5  0.  -0. ]\n",
      " [-0.5 -0.   0. ]]\n"
     ]
    }
   ],
   "source": [
    "def func(k):\n",
    "    H = np.array([\n",
    "        [0, np.exp(-1j*k), -np.exp(-1j*k)],\n",
    "        [1, 0, 0],\n",
    "        [0, 1, 0]\n",
    "    ])\n",
    "    return H\n",
    "\n",
    "n_band = len(func(0))\n",
    "#hamiltonian = obtain_non_Hermitian_Hamiltonian(n_band=n_band, func=func, compress_ratio=0.75)\n",
    "model =  obtain_non_Hermitian_model(n_band=n_band, func=func, compress_ratio=1.)\n",
    "print(model.get_winding_matrix())\n",
    "\n",
    "model =  obtain_non_Hermitian_model(n_band=n_band, func=func, compress_ratio=0.75)\n",
    "print(model.get_winding_matrix())"
   ]
  },
  {
   "cell_type": "code",
   "execution_count": 55,
   "id": "dc59cbb2",
   "metadata": {},
   "outputs": [
    {
     "name": "stdout",
     "output_type": "stream",
     "text": [
      "[[ 0.   -0.18 -0.32 -0.25]\n",
      " [-0.18  0.   -0.25 -0.32]\n",
      " [-0.32 -0.25  0.   -0.18]\n",
      " [-0.25 -0.32 -0.18  0.  ]]\n",
      "[[ 0.  -0.5 -0.  -0.5]\n",
      " [-0.5  0.   0.   0. ]\n",
      " [-0.   0.   0.  -0.5]\n",
      " [-0.5  0.  -0.5  0. ]]\n"
     ]
    }
   ],
   "source": [
    "def func(k):\n",
    "    H = np.array([\n",
    "        [0, np.exp(-2j*k), 0, np.exp(-1j*k)],\n",
    "        [1, 0, 0, 0],\n",
    "        [0, 1, 0, 0],\n",
    "        [0, 0, 1, 0]\n",
    "    ])\n",
    "    return H\n",
    "\n",
    "n_band = len(func(0))\n",
    "#hamiltonian = obtain_non_Hermitian_Hamiltonian(n_band=n_band, func=func, compress_ratio=0.75)\n",
    "model =  obtain_non_Hermitian_model(n_band=n_band, func=func, compress_ratio=1.)\n",
    "print(model.get_winding_matrix())\n",
    "\n",
    "model =  obtain_non_Hermitian_model(n_band=n_band, func=func, compress_ratio=0.75)\n",
    "print(model.get_winding_matrix())"
   ]
  },
  {
   "cell_type": "markdown",
   "id": "7ae11ce4",
   "metadata": {},
   "source": [
    "# General"
   ]
  },
  {
   "cell_type": "code",
   "execution_count": 32,
   "id": "dcaffc7b",
   "metadata": {},
   "outputs": [
    {
     "data": {
      "text/plain": [
       "array([[ 0. ,  0.5,  1. ],\n",
       "       [ 0.5,  0. , -0. ],\n",
       "       [ 1. , -0. ,  0. ]])"
      ]
     },
     "execution_count": 32,
     "metadata": {},
     "output_type": "execute_result"
    }
   ],
   "source": [
    "def func(k):\n",
    "    H = np.array([\n",
    "        [2, np.exp(2j*k), np.exp(1j*k)],\n",
    "        [1, 0, 0],\n",
    "        [0, 1, 0]\n",
    "    ])\n",
    "    return H\n",
    "\n",
    "n_band = len(func(0))\n",
    "#hamiltonian = obtain_non_Hermitian_Hamiltonian(n_band=n_band, func=func, compress_ratio=0.75)\n",
    "model =  obtain_non_Hermitian_model(n_band=n_band, func=func, compress_ratio=0.75)\n",
    "model.get_winding_matrix()"
   ]
  },
  {
   "cell_type": "code",
   "execution_count": 34,
   "id": "2c57dd79",
   "metadata": {},
   "outputs": [
    {
     "data": {
      "text/plain": [
       "array([[0. , 0.5, 1. ],\n",
       "       [0.5, 0. , 0. ],\n",
       "       [1. , 0. , 0. ]])"
      ]
     },
     "execution_count": 34,
     "metadata": {},
     "output_type": "execute_result"
    }
   ],
   "source": [
    "braid_operators = [BraidOperator(-1), BraidOperator(-2), BraidOperator(-2)]\n",
    "model =  obtain_model_braid(n_band, braid_operators)\n",
    "model.get_winding_matrix()"
   ]
  },
  {
   "cell_type": "code",
   "execution_count": 35,
   "id": "2a93289c",
   "metadata": {},
   "outputs": [
    {
     "data": {
      "text/plain": [
       "array([[0.  , 0.5 , 0.94],\n",
       "       [0.5 , 0.  , 0.06],\n",
       "       [0.94, 0.06, 0.  ]])"
      ]
     },
     "execution_count": 35,
     "metadata": {},
     "output_type": "execute_result"
    }
   ],
   "source": [
    "def func(k):\n",
    "    H = np.array([\n",
    "        [2, np.exp(2j*k), np.exp(1j*k)],\n",
    "        [1, 0, 0],\n",
    "        [0, 1, 0]\n",
    "    ])\n",
    "    return H\n",
    "\n",
    "n_band = len(func(0))\n",
    "#hamiltonian = obtain_non_Hermitian_Hamiltonian(n_band=n_band, func=func, compress_ratio=0.75)\n",
    "model =  obtain_non_Hermitian_model(n_band=n_band, func=func, compress_ratio=1.)\n",
    "model.get_winding_matrix()"
   ]
  },
  {
   "cell_type": "markdown",
   "id": "8adcca2d",
   "metadata": {},
   "source": [
    "# Case I"
   ]
  },
  {
   "cell_type": "code",
   "execution_count": 38,
   "id": "0138c0f7",
   "metadata": {},
   "outputs": [
    {
     "name": "stdout",
     "output_type": "stream",
     "text": [
      "[[ 0.   -0.5  -0.06]\n",
      " [-0.5   0.    0.06]\n",
      " [-0.06  0.06  0.  ]]\n",
      "[[ 0.  -0.5  0. ]\n",
      " [-0.5  0.   0. ]\n",
      " [ 0.   0.   0. ]]\n"
     ]
    }
   ],
   "source": [
    "def func(k):\n",
    "    H = np.array([\n",
    "        [2, np.exp(2j*k), np.exp(-1j*k)],\n",
    "        [1, 0, 0],\n",
    "        [0, 1, 0]\n",
    "    ])\n",
    "    return H\n",
    "\n",
    "n_band = len(func(0))\n",
    "#hamiltonian = obtain_non_Hermitian_Hamiltonian(n_band=n_band, func=func, compress_ratio=0.75)\n",
    "model =  obtain_non_Hermitian_model(n_band=n_band, func=func, compress_ratio=1.)\n",
    "print(model.get_winding_matrix())\n",
    "\n",
    "model =  obtain_non_Hermitian_model(n_band=n_band, func=func, compress_ratio=0.75)\n",
    "print(model.get_winding_matrix())"
   ]
  },
  {
   "cell_type": "code",
   "execution_count": 40,
   "id": "3f10b3cb",
   "metadata": {},
   "outputs": [
    {
     "name": "stdout",
     "output_type": "stream",
     "text": [
      "[[ 0.  1.  0.]\n",
      " [ 1.  0. -0.]\n",
      " [ 0. -0.  0.]]\n",
      "[[ 0.  1. -0.]\n",
      " [ 1.  0.  0.]\n",
      " [-0.  0.  0.]]\n"
     ]
    }
   ],
   "source": [
    "def func(k):\n",
    "    H = np.array([\n",
    "        [2, np.exp(-1j*k), np.exp(2j*k)],\n",
    "        [1, 0, 0],\n",
    "        [0, 1, 0]\n",
    "    ])\n",
    "    return H\n",
    "\n",
    "n_band = len(func(0))\n",
    "#hamiltonian = obtain_non_Hermitian_Hamiltonian(n_band=n_band, func=func, compress_ratio=0.75)\n",
    "model =  obtain_non_Hermitian_model(n_band=n_band, func=func, compress_ratio=1.)\n",
    "print(model.get_winding_matrix())\n",
    "\n",
    "model =  obtain_non_Hermitian_model(n_band=n_band, func=func, compress_ratio=0.75)\n",
    "print(model.get_winding_matrix())"
   ]
  },
  {
   "cell_type": "code",
   "execution_count": 41,
   "id": "7eeddbe0",
   "metadata": {},
   "outputs": [
    {
     "name": "stdout",
     "output_type": "stream",
     "text": [
      "[[ 0.   -0.33 -0.33]\n",
      " [-0.33  0.   -0.33]\n",
      " [-0.33 -0.33  0.  ]]\n",
      "[[ 0.  -0.  -0.5]\n",
      " [-0.   0.  -0.5]\n",
      " [-0.5 -0.5  0. ]]\n"
     ]
    }
   ],
   "source": [
    "def func(k):\n",
    "    H = np.array([\n",
    "        [0, 0, np.exp(-1j*k)],\n",
    "        [1, 0, 0],\n",
    "        [0, 1, 0]\n",
    "    ])\n",
    "    return H\n",
    "\n",
    "n_band = len(func(0))\n",
    "#hamiltonian = obtain_non_Hermitian_Hamiltonian(n_band=n_band, func=func, compress_ratio=0.75)\n",
    "model =  obtain_non_Hermitian_model(n_band=n_band, func=func, compress_ratio=1.)\n",
    "print(model.get_winding_matrix())\n",
    "\n",
    "model =  obtain_non_Hermitian_model(n_band=n_band, func=func, compress_ratio=0.75)\n",
    "print(model.get_winding_matrix())"
   ]
  },
  {
   "cell_type": "code",
   "execution_count": 42,
   "id": "0ed10078",
   "metadata": {},
   "outputs": [
    {
     "name": "stdout",
     "output_type": "stream",
     "text": [
      "[[ 0.    0.28 -0.56]\n",
      " [ 0.28  0.    0.28]\n",
      " [-0.56  0.28  0.  ]]\n",
      "[[ 0.   0.5 -0.5]\n",
      " [ 0.5  0.   0. ]\n",
      " [-0.5  0.   0. ]]\n"
     ]
    }
   ],
   "source": [
    "def func(k):\n",
    "    H = np.array([\n",
    "        [2, np.exp(-3j*k), np.exp(1j*k)],\n",
    "        [1, 0, 0],\n",
    "        [0, 1, 0]\n",
    "    ])\n",
    "    return H\n",
    "\n",
    "n_band = len(func(0))\n",
    "#hamiltonian = obtain_non_Hermitian_Hamiltonian(n_band=n_band, func=func, compress_ratio=0.75)\n",
    "model =  obtain_non_Hermitian_model(n_band=n_band, func=func, compress_ratio=1.)\n",
    "print(model.get_winding_matrix())\n",
    "\n",
    "model =  obtain_non_Hermitian_model(n_band=n_band, func=func, compress_ratio=0.75)\n",
    "print(model.get_winding_matrix())"
   ]
  },
  {
   "cell_type": "markdown",
   "id": "0b2095fc",
   "metadata": {},
   "source": [
    "# $\\sigma_2^{-1} \\sigma_1$"
   ]
  },
  {
   "cell_type": "code",
   "execution_count": 45,
   "id": "48869f9b",
   "metadata": {},
   "outputs": [
    {
     "data": {
      "text/plain": [
       "array([[ 0. , -0.5,  0.5],\n",
       "       [-0.5,  0. ,  0. ],\n",
       "       [ 0.5,  0. ,  0. ]])"
      ]
     },
     "execution_count": 45,
     "metadata": {},
     "output_type": "execute_result"
    }
   ],
   "source": [
    "braid_operators = [BraidOperator(1), BraidOperator(-2)]\n",
    "model =  obtain_model_braid(n_band, braid_operators)\n",
    "model.get_winding_matrix()"
   ]
  },
  {
   "cell_type": "code",
   "execution_count": null,
   "id": "e388bffa",
   "metadata": {},
   "outputs": [],
   "source": [
    "braid_operators = [BraidOperator(1), BraidOperator(-2)]\n",
    "model =  obtain_model_braid(n_band, braid_operators)\n",
    "model.get_winding_matrix()"
   ]
  }
 ],
 "metadata": {
  "kernelspec": {
   "display_name": "Python 3 (ipykernel)",
   "language": "python",
   "name": "python3"
  },
  "language_info": {
   "codemirror_mode": {
    "name": "ipython",
    "version": 3
   },
   "file_extension": ".py",
   "mimetype": "text/x-python",
   "name": "python",
   "nbconvert_exporter": "python",
   "pygments_lexer": "ipython3",
   "version": "3.8.13"
  }
 },
 "nbformat": 4,
 "nbformat_minor": 5
}
