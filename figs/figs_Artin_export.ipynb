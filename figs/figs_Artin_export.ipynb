{
 "cells": [
  {
   "cell_type": "code",
   "execution_count": 2,
   "id": "c2d0ae50",
   "metadata": {},
   "outputs": [
    {
     "data": {
      "text/plain": [
       "{'divide': 'warn', 'over': 'warn', 'under': 'ignore', 'invalid': 'warn'}"
      ]
     },
     "execution_count": 2,
     "metadata": {},
     "output_type": "execute_result"
    }
   ],
   "source": [
    "import sys \n",
    "sys.path.append(\"..\") \n",
    "import os\n",
    "\n",
    "import numpy as np\n",
    "from braiding_model import BraidOperator, show_braid_words\n",
    "from braiding_model import GeneratorBraid, obtain_model_braid, obtain_model_torus_knot\n",
    "from braiding_model import sigma_z, sigma_x, sigma_y, sigma_0\n",
    "from braiding_model import PerturbationModel\n",
    "\n",
    "from machine_learning import Classifier, Cluster\n",
    "from topology import topology_comparator, similarity_function\n",
    "from functools import partial\n",
    "\n",
    "import matplotlib.pyplot as plt\n",
    "import itertools\n",
    "\n",
    "p1 = PerturbationModel()\n",
    "p1.set_parameters(t1=0.1,t2=0.0)\n",
    "\n",
    "p2 = PerturbationModel()\n",
    "p2.set_parameters(t1=-0.1,t2=0.0)\n",
    "\n",
    "p3 = PerturbationModel()\n",
    "p3.set_parameters(t1=0.1,t2=0.1)\n",
    "\n",
    "p4 = PerturbationModel()\n",
    "p4.set_parameters(t1=0.0,t2=-0.1)\n",
    "\n",
    "perturbations = [p1,p2,p3,p4]\n",
    "\n",
    "np.seterr(all=\"ignore\") # ignore some numerical errors"
   ]
  },
  {
   "cell_type": "code",
   "execution_count": 3,
   "id": "a5287ced",
   "metadata": {},
   "outputs": [],
   "source": [
    "n_band = 5"
   ]
  },
  {
   "cell_type": "markdown",
   "id": "68368f90",
   "metadata": {},
   "source": [
    "# Test 1"
   ]
  },
  {
   "cell_type": "code",
   "execution_count": 5,
   "id": "9ed480e0",
   "metadata": {},
   "outputs": [
    {
     "data": {
      "image/png": "[encoded data removed]",
      "text/plain": [
       "<Figure size 640x480 with 1 Axes>"
      ]
     },
     "metadata": {},
     "output_type": "display_data"
    }
   ],
   "source": [
    "directory_name = 'Test 1'\n",
    "\n",
    "\n",
    "with open('./figs/Artin/{directory_name}/group_number.txt'.format(directory_name=directory_name),'r') as fileop:\n",
    "    group_number = fileop.readlines()\n",
    "    \n",
    "group_number = eval(group_number[0])\n",
    "\n",
    "fig = plt.figure()\n",
    "xticks = ['Identical', 'Distinct']\n",
    "yticks = [0, int(np.max(group_number)/2), int(np.max(group_number))]\n",
    "\n",
    "plt.bar(np.arange(len(group_number))+1, group_number)\n",
    "\n",
    "for i, v in enumerate(group_number):\n",
    "    plt.text(i+0.9, v, str(v), fontsize=20)\n",
    "     \n",
    "plt.xticks([1,2], xticks,fontsize=18)\n",
    "plt.yticks(yticks,fontsize=18)\n",
    "\n",
    "plt.xlim([0.5,2+0.5])\n",
    "plt.ylim([0, np.max(group_number)*1.1])\n",
    "\n",
    "plt.xlabel(r\"Phase\",fontsize=20)\n",
    "#plt.ylabel(r\"No. Samples\",fontsize=20,rotation=90,horizontalalignment='right')\n",
    "plt.ylabel(r\"No. Samples\",fontsize=20,rotation=90)\n",
    "plt.tight_layout()\n",
    "plt.savefig('figs_Artin_{0}.svg'.format(directory_name))"
   ]
  },
  {
   "cell_type": "code",
   "execution_count": 8,
   "id": "297a1ebc",
   "metadata": {},
   "outputs": [
    {
     "data": {
      "text/markdown": [
       "$\\sigma_2$ $\\sigma_1$ $\\sigma^{-1}_4$ $\\sigma_3$ $\\sigma_1$ "
      ],
      "text/plain": [
       "<IPython.core.display.Markdown object>"
      ]
     },
     "metadata": {},
     "output_type": "display_data"
    },
    {
     "data": {
      "text/markdown": [
       "$\\sigma^{-1}_4$ $\\sigma_2$ $\\sigma_1$ $\\sigma_3$ $\\sigma_1$ "
      ],
      "text/plain": [
       "<IPython.core.display.Markdown object>"
      ]
     },
     "metadata": {},
     "output_type": "display_data"
    },
    {
     "data": {
      "text/markdown": [
       "$\\sigma_2$ $\\sigma^{-1}_4$ $\\sigma_1$ $\\sigma_3$ $\\sigma_1$ "
      ],
      "text/plain": [
       "<IPython.core.display.Markdown object>"
      ]
     },
     "metadata": {},
     "output_type": "display_data"
    },
    {
     "data": {
      "text/markdown": [
       "$\\sigma_1$ $\\sigma^{-1}_4$ $\\sigma_3$ $\\sigma_2$ $\\sigma_1$ "
      ],
      "text/plain": [
       "<IPython.core.display.Markdown object>"
      ]
     },
     "metadata": {},
     "output_type": "display_data"
    },
    {
     "data": {
      "text/markdown": [
       "$\\sigma^{-1}_4$ $\\sigma_1$ $\\sigma_3$ $\\sigma_2$ $\\sigma_1$ "
      ],
      "text/plain": [
       "<IPython.core.display.Markdown object>"
      ]
     },
     "metadata": {},
     "output_type": "display_data"
    },
    {
     "data": {
      "text/markdown": [
       "$\\sigma_1$ $\\sigma_3$ $\\sigma^{-1}_4$ $\\sigma_2$ $\\sigma_1$ "
      ],
      "text/plain": [
       "<IPython.core.display.Markdown object>"
      ]
     },
     "metadata": {},
     "output_type": "display_data"
    },
    {
     "data": {
      "text/markdown": [
       "$\\sigma_3$ $\\sigma_1$ $\\sigma^{-1}_4$ $\\sigma_2$ $\\sigma_1$ "
      ],
      "text/plain": [
       "<IPython.core.display.Markdown object>"
      ]
     },
     "metadata": {},
     "output_type": "display_data"
    },
    {
     "data": {
      "text/markdown": [
       "$\\sigma^{-1}_4$ $\\sigma_3$ $\\sigma_1$ $\\sigma_2$ $\\sigma_1$ "
      ],
      "text/plain": [
       "<IPython.core.display.Markdown object>"
      ]
     },
     "metadata": {},
     "output_type": "display_data"
    },
    {
     "data": {
      "text/markdown": [
       "$\\sigma_3$ $\\sigma^{-1}_4$ $\\sigma_1$ $\\sigma_2$ $\\sigma_1$ "
      ],
      "text/plain": [
       "<IPython.core.display.Markdown object>"
      ]
     },
     "metadata": {},
     "output_type": "display_data"
    },
    {
     "data": {
      "text/markdown": [
       "$\\sigma_1$ $\\sigma_2$ $\\sigma_3$ $\\sigma^{-1}_4$ $\\sigma_1$ "
      ],
      "text/plain": [
       "<IPython.core.display.Markdown object>"
      ]
     },
     "metadata": {},
     "output_type": "display_data"
    },
    {
     "data": {
      "text/markdown": [
       "$\\sigma_2$ $\\sigma_1$ $\\sigma_3$ $\\sigma^{-1}_4$ $\\sigma_1$ "
      ],
      "text/plain": [
       "<IPython.core.display.Markdown object>"
      ]
     },
     "metadata": {},
     "output_type": "display_data"
    },
    {
     "data": {
      "text/markdown": [
       "$\\sigma_1$ $\\sigma_3$ $\\sigma_2$ $\\sigma^{-1}_4$ $\\sigma_1$ "
      ],
      "text/plain": [
       "<IPython.core.display.Markdown object>"
      ]
     },
     "metadata": {},
     "output_type": "display_data"
    },
    {
     "data": {
      "text/markdown": [
       "$\\sigma_3$ $\\sigma_1$ $\\sigma_2$ $\\sigma^{-1}_4$ $\\sigma_1$ "
      ],
      "text/plain": [
       "<IPython.core.display.Markdown object>"
      ]
     },
     "metadata": {},
     "output_type": "display_data"
    },
    {
     "data": {
      "text/markdown": [
       "$\\sigma_2$ $\\sigma_3$ $\\sigma_1$ $\\sigma^{-1}_4$ $\\sigma_1$ "
      ],
      "text/plain": [
       "<IPython.core.display.Markdown object>"
      ]
     },
     "metadata": {},
     "output_type": "display_data"
    },
    {
     "data": {
      "text/markdown": [
       "$\\sigma_3$ $\\sigma_2$ $\\sigma_1$ $\\sigma^{-1}_4$ $\\sigma_1$ "
      ],
      "text/plain": [
       "<IPython.core.display.Markdown object>"
      ]
     },
     "metadata": {},
     "output_type": "display_data"
    },
    {
     "data": {
      "text/markdown": [
       "$\\sigma^{-1}_4$ $\\sigma_2$ $\\sigma_3$ $\\sigma_1$ $\\sigma_1$ "
      ],
      "text/plain": [
       "<IPython.core.display.Markdown object>"
      ]
     },
     "metadata": {},
     "output_type": "display_data"
    },
    {
     "data": {
      "text/markdown": [
       "$\\sigma_2$ $\\sigma^{-1}_4$ $\\sigma_3$ $\\sigma_1$ $\\sigma_1$ "
      ],
      "text/plain": [
       "<IPython.core.display.Markdown object>"
      ]
     },
     "metadata": {},
     "output_type": "display_data"
    },
    {
     "data": {
      "text/markdown": [
       "$\\sigma^{-1}_4$ $\\sigma_3$ $\\sigma_2$ $\\sigma_1$ $\\sigma_1$ "
      ],
      "text/plain": [
       "<IPython.core.display.Markdown object>"
      ]
     },
     "metadata": {},
     "output_type": "display_data"
    },
    {
     "data": {
      "text/markdown": [
       "$\\sigma_3$ $\\sigma^{-1}_4$ $\\sigma_2$ $\\sigma_1$ $\\sigma_1$ "
      ],
      "text/plain": [
       "<IPython.core.display.Markdown object>"
      ]
     },
     "metadata": {},
     "output_type": "display_data"
    },
    {
     "data": {
      "text/markdown": [
       "$\\sigma_2$ $\\sigma_3$ $\\sigma^{-1}_4$ $\\sigma_1$ $\\sigma_1$ "
      ],
      "text/plain": [
       "<IPython.core.display.Markdown object>"
      ]
     },
     "metadata": {},
     "output_type": "display_data"
    },
    {
     "data": {
      "text/markdown": [
       "$\\sigma_3$ $\\sigma_2$ $\\sigma^{-1}_4$ $\\sigma_1$ $\\sigma_1$ "
      ],
      "text/plain": [
       "<IPython.core.display.Markdown object>"
      ]
     },
     "metadata": {},
     "output_type": "display_data"
    },
    {
     "data": {
      "text/markdown": [
       "$\\sigma_2$ $\\sigma_1$ $\\sigma^{-1}_4$ $\\sigma_1$ $\\sigma_3$ "
      ],
      "text/plain": [
       "<IPython.core.display.Markdown object>"
      ]
     },
     "metadata": {},
     "output_type": "display_data"
    },
    {
     "data": {
      "text/markdown": [
       "$\\sigma^{-1}_4$ $\\sigma_2$ $\\sigma_1$ $\\sigma_1$ $\\sigma_3$ "
      ],
      "text/plain": [
       "<IPython.core.display.Markdown object>"
      ]
     },
     "metadata": {},
     "output_type": "display_data"
    },
    {
     "data": {
      "text/markdown": [
       "$\\sigma_2$ $\\sigma^{-1}_4$ $\\sigma_1$ $\\sigma_1$ $\\sigma_3$ "
      ],
      "text/plain": [
       "<IPython.core.display.Markdown object>"
      ]
     },
     "metadata": {},
     "output_type": "display_data"
    },
    {
     "data": {
      "text/markdown": [
       "$\\sigma_1$ $\\sigma^{-1}_4$ $\\sigma_1$ $\\sigma_2$ $\\sigma_3$ "
      ],
      "text/plain": [
       "<IPython.core.display.Markdown object>"
      ]
     },
     "metadata": {},
     "output_type": "display_data"
    },
    {
     "data": {
      "text/markdown": [
       "$\\sigma^{-1}_4$ $\\sigma_1$ $\\sigma_1$ $\\sigma_2$ $\\sigma_3$ "
      ],
      "text/plain": [
       "<IPython.core.display.Markdown object>"
      ]
     },
     "metadata": {},
     "output_type": "display_data"
    },
    {
     "data": {
      "text/markdown": [
       "$\\sigma_1$ $\\sigma_1$ $\\sigma^{-1}_4$ $\\sigma_2$ $\\sigma_3$ "
      ],
      "text/plain": [
       "<IPython.core.display.Markdown object>"
      ]
     },
     "metadata": {},
     "output_type": "display_data"
    },
    {
     "data": {
      "text/markdown": [
       "$\\sigma_2$ $\\sigma_1$ $\\sigma_1$ $\\sigma^{-1}_4$ $\\sigma_3$ "
      ],
      "text/plain": [
       "<IPython.core.display.Markdown object>"
      ]
     },
     "metadata": {},
     "output_type": "display_data"
    },
    {
     "data": {
      "text/markdown": [
       "$\\sigma_1$ $\\sigma_1$ $\\sigma_2$ $\\sigma^{-1}_4$ $\\sigma_3$ "
      ],
      "text/plain": [
       "<IPython.core.display.Markdown object>"
      ]
     },
     "metadata": {},
     "output_type": "display_data"
    },
    {
     "data": {
      "text/markdown": [
       "$\\sigma_1$ $\\sigma^{-1}_4$ $\\sigma_3$ $\\sigma_1$ $\\sigma_2$ "
      ],
      "text/plain": [
       "<IPython.core.display.Markdown object>"
      ]
     },
     "metadata": {},
     "output_type": "display_data"
    },
    {
     "data": {
      "text/markdown": [
       "$\\sigma^{-1}_4$ $\\sigma_1$ $\\sigma_3$ $\\sigma_1$ $\\sigma_2$ "
      ],
      "text/plain": [
       "<IPython.core.display.Markdown object>"
      ]
     },
     "metadata": {},
     "output_type": "display_data"
    },
    {
     "data": {
      "text/markdown": [
       "$\\sigma_1$ $\\sigma_3$ $\\sigma^{-1}_4$ $\\sigma_1$ $\\sigma_2$ "
      ],
      "text/plain": [
       "<IPython.core.display.Markdown object>"
      ]
     },
     "metadata": {},
     "output_type": "display_data"
    },
    {
     "data": {
      "text/markdown": [
       "$\\sigma_3$ $\\sigma_1$ $\\sigma^{-1}_4$ $\\sigma_1$ $\\sigma_2$ "
      ],
      "text/plain": [
       "<IPython.core.display.Markdown object>"
      ]
     },
     "metadata": {},
     "output_type": "display_data"
    },
    {
     "data": {
      "text/markdown": [
       "$\\sigma^{-1}_4$ $\\sigma_3$ $\\sigma_1$ $\\sigma_1$ $\\sigma_2$ "
      ],
      "text/plain": [
       "<IPython.core.display.Markdown object>"
      ]
     },
     "metadata": {},
     "output_type": "display_data"
    },
    {
     "data": {
      "text/markdown": [
       "$\\sigma_3$ $\\sigma^{-1}_4$ $\\sigma_1$ $\\sigma_1$ $\\sigma_2$ "
      ],
      "text/plain": [
       "<IPython.core.display.Markdown object>"
      ]
     },
     "metadata": {},
     "output_type": "display_data"
    },
    {
     "data": {
      "text/markdown": [
       "$\\sigma_1$ $\\sigma^{-1}_4$ $\\sigma_1$ $\\sigma_3$ $\\sigma_2$ "
      ],
      "text/plain": [
       "<IPython.core.display.Markdown object>"
      ]
     },
     "metadata": {},
     "output_type": "display_data"
    },
    {
     "data": {
      "text/markdown": [
       "$\\sigma^{-1}_4$ $\\sigma_1$ $\\sigma_1$ $\\sigma_3$ $\\sigma_2$ "
      ],
      "text/plain": [
       "<IPython.core.display.Markdown object>"
      ]
     },
     "metadata": {},
     "output_type": "display_data"
    },
    {
     "data": {
      "text/markdown": [
       "$\\sigma_1$ $\\sigma_1$ $\\sigma^{-1}_4$ $\\sigma_3$ $\\sigma_2$ "
      ],
      "text/plain": [
       "<IPython.core.display.Markdown object>"
      ]
     },
     "metadata": {},
     "output_type": "display_data"
    },
    {
     "data": {
      "text/markdown": [
       "$\\sigma_1$ $\\sigma_3$ $\\sigma_1$ $\\sigma^{-1}_4$ $\\sigma_2$ "
      ],
      "text/plain": [
       "<IPython.core.display.Markdown object>"
      ]
     },
     "metadata": {},
     "output_type": "display_data"
    },
    {
     "data": {
      "text/markdown": [
       "$\\sigma_3$ $\\sigma_1$ $\\sigma_1$ $\\sigma^{-1}_4$ $\\sigma_2$ "
      ],
      "text/plain": [
       "<IPython.core.display.Markdown object>"
      ]
     },
     "metadata": {},
     "output_type": "display_data"
    },
    {
     "data": {
      "text/markdown": [
       "$\\sigma_1$ $\\sigma_1$ $\\sigma_3$ $\\sigma^{-1}_4$ $\\sigma_2$ "
      ],
      "text/plain": [
       "<IPython.core.display.Markdown object>"
      ]
     },
     "metadata": {},
     "output_type": "display_data"
    },
    {
     "data": {
      "text/markdown": [
       "$\\sigma_1$ $\\sigma_2$ $\\sigma_3$ $\\sigma_1$ $\\sigma^{-1}_4$ "
      ],
      "text/plain": [
       "<IPython.core.display.Markdown object>"
      ]
     },
     "metadata": {},
     "output_type": "display_data"
    },
    {
     "data": {
      "text/markdown": [
       "$\\sigma_2$ $\\sigma_1$ $\\sigma_3$ $\\sigma_1$ $\\sigma^{-1}_4$ "
      ],
      "text/plain": [
       "<IPython.core.display.Markdown object>"
      ]
     },
     "metadata": {},
     "output_type": "display_data"
    },
    {
     "data": {
      "text/markdown": [
       "$\\sigma_1$ $\\sigma_3$ $\\sigma_2$ $\\sigma_1$ $\\sigma^{-1}_4$ "
      ],
      "text/plain": [
       "<IPython.core.display.Markdown object>"
      ]
     },
     "metadata": {},
     "output_type": "display_data"
    },
    {
     "data": {
      "text/markdown": [
       "$\\sigma_3$ $\\sigma_1$ $\\sigma_2$ $\\sigma_1$ $\\sigma^{-1}_4$ "
      ],
      "text/plain": [
       "<IPython.core.display.Markdown object>"
      ]
     },
     "metadata": {},
     "output_type": "display_data"
    },
    {
     "data": {
      "text/markdown": [
       "$\\sigma_2$ $\\sigma_3$ $\\sigma_1$ $\\sigma_1$ $\\sigma^{-1}_4$ "
      ],
      "text/plain": [
       "<IPython.core.display.Markdown object>"
      ]
     },
     "metadata": {},
     "output_type": "display_data"
    },
    {
     "data": {
      "text/markdown": [
       "$\\sigma_3$ $\\sigma_2$ $\\sigma_1$ $\\sigma_1$ $\\sigma^{-1}_4$ "
      ],
      "text/plain": [
       "<IPython.core.display.Markdown object>"
      ]
     },
     "metadata": {},
     "output_type": "display_data"
    },
    {
     "data": {
      "text/markdown": [
       "$\\sigma_1$ $\\sigma_2$ $\\sigma_1$ $\\sigma_3$ $\\sigma^{-1}_4$ "
      ],
      "text/plain": [
       "<IPython.core.display.Markdown object>"
      ]
     },
     "metadata": {},
     "output_type": "display_data"
    },
    {
     "data": {
      "text/markdown": [
       "$\\sigma_2$ $\\sigma_1$ $\\sigma_1$ $\\sigma_3$ $\\sigma^{-1}_4$ "
      ],
      "text/plain": [
       "<IPython.core.display.Markdown object>"
      ]
     },
     "metadata": {},
     "output_type": "display_data"
    },
    {
     "data": {
      "text/markdown": [
       "$\\sigma_1$ $\\sigma_1$ $\\sigma_2$ $\\sigma_3$ $\\sigma^{-1}_4$ "
      ],
      "text/plain": [
       "<IPython.core.display.Markdown object>"
      ]
     },
     "metadata": {},
     "output_type": "display_data"
    },
    {
     "data": {
      "text/markdown": [
       "$\\sigma_1$ $\\sigma_3$ $\\sigma_1$ $\\sigma_2$ $\\sigma^{-1}_4$ "
      ],
      "text/plain": [
       "<IPython.core.display.Markdown object>"
      ]
     },
     "metadata": {},
     "output_type": "display_data"
    },
    {
     "data": {
      "text/markdown": [
       "$\\sigma_3$ $\\sigma_1$ $\\sigma_1$ $\\sigma_2$ $\\sigma^{-1}_4$ "
      ],
      "text/plain": [
       "<IPython.core.display.Markdown object>"
      ]
     },
     "metadata": {},
     "output_type": "display_data"
    },
    {
     "data": {
      "text/markdown": [
       "$\\sigma_1$ $\\sigma_1$ $\\sigma_3$ $\\sigma_2$ $\\sigma^{-1}_4$ "
      ],
      "text/plain": [
       "<IPython.core.display.Markdown object>"
      ]
     },
     "metadata": {},
     "output_type": "display_data"
    },
    {
     "name": "stdout",
     "output_type": "stream",
     "text": [
      "The number of models:  53\n"
     ]
    }
   ],
   "source": [
    "index = 1\n",
    "with open('./figs/Artin/{directory_name}/{i}.txt'.format(directory_name=directory_name, i=index),'r') as fileop:\n",
    "    data = fileop.readlines()\n",
    "    \n",
    "models = list()\n",
    "for i,_op_str in enumerate(data):\n",
    "    op = eval(_op_str)\n",
    "    _braid_operators = [BraidOperator(x[0],x[1]) for x in op]\n",
    "    _model = obtain_model_braid(n_band, _braid_operators)\n",
    "    \n",
    "    flag = False\n",
    "    for modelc in models:\n",
    "        if _model == modelc:\n",
    "            flag = True\n",
    "            break\n",
    "            \n",
    "    if not flag:\n",
    "        models.append(_model)\n",
    "        \n",
    "for i, _model in enumerate(models):\n",
    "    show_braid_words(_model.get_braid_words())\n",
    "    #_model.save_band('./figs/Artin/Export/{directory_name}/{index}_{i}.txt'.format(directory_name=directory_name, index=index, i=i))\n",
    "    \n",
    "print(\"The number of models: \", len(models))"
   ]
  },
  {
   "cell_type": "code",
   "execution_count": 9,
   "id": "3f9dbf53",
   "metadata": {},
   "outputs": [
    {
     "name": "stdout",
     "output_type": "stream",
     "text": [
      "The number of models:  53\n"
     ]
    }
   ],
   "source": [
    "index = 1\n",
    "with open('./figs/Artin/{directory_name}/{i}.txt'.format(directory_name=directory_name, i=index),'r') as fileop:\n",
    "    data = fileop.readlines()\n",
    "    \n",
    "models = list()\n",
    "for i,_op_str in enumerate(data):\n",
    "    op = eval(_op_str)\n",
    "    _braid_operators = [BraidOperator(x[0],x[1]) for x in op]\n",
    "    _model = obtain_model_braid(n_band, _braid_operators)\n",
    "    \n",
    "    flag = False\n",
    "    for modelc in models:\n",
    "        if _model == modelc:\n",
    "            flag = True\n",
    "            break\n",
    "            \n",
    "    if not flag:\n",
    "        models.append(_model)\n",
    "        \n",
    "for i, _model in enumerate(models):\n",
    "    #show_braid_words(_model.get_braid_words())\n",
    "    _model.save_band('./figs/Artin/Export/{directory_name}/{index}_{i}.txt'.format(directory_name=directory_name, index=index, i=i))\n",
    "    \n",
    "print(\"The number of models: \", len(models))"
   ]
  },
  {
   "cell_type": "markdown",
   "id": "64fac592",
   "metadata": {},
   "source": [
    "# Test 2"
   ]
  },
  {
   "cell_type": "code",
   "execution_count": 9,
   "id": "2161e325",
   "metadata": {},
   "outputs": [
    {
     "data": {
      "image/png": "[encoded data removed]",
      "text/plain": [
       "<Figure size 640x480 with 1 Axes>"
      ]
     },
     "metadata": {},
     "output_type": "display_data"
    }
   ],
   "source": [
    "directory_name = 'Test 2'\n",
    "\n",
    "\n",
    "with open('./figs/Artin/{directory_name}/group_number.txt'.format(directory_name=directory_name),'r') as fileop:\n",
    "    group_number = fileop.readlines()\n",
    "    \n",
    "group_number = eval(group_number[0])\n",
    "\n",
    "fig = plt.figure()\n",
    "xticks = ['Identical', 'Distinct']\n",
    "yticks = [0, int(np.max(group_number)/2), int(np.max(group_number))]\n",
    "\n",
    "plt.bar(np.arange(len(group_number))+1, group_number)\n",
    "\n",
    "for i, v in enumerate(group_number):\n",
    "    plt.text(i+0.9, v, str(v), fontsize=20)\n",
    "     \n",
    "plt.xticks([1,2], xticks,fontsize=18)\n",
    "plt.yticks(yticks,fontsize=18)\n",
    "\n",
    "plt.xlim([0.5,2+0.5])\n",
    "plt.ylim([0, np.max(group_number)*1.1])\n",
    "\n",
    "plt.xlabel(r\"Phase\",fontsize=20)\n",
    "#plt.ylabel(r\"No. Samples\",fontsize=20,rotation=90,horizontalalignment='right')\n",
    "plt.ylabel(r\"No. Samples\",fontsize=20,rotation=90)\n",
    "plt.tight_layout()\n",
    "plt.savefig('figs_Artin_{0}.svg'.format(directory_name))"
   ]
  },
  {
   "cell_type": "code",
   "execution_count": 12,
   "id": "7480f7ce",
   "metadata": {
    "scrolled": false
   },
   "outputs": [
    {
     "data": {
      "text/markdown": [
       "$\\sigma^{-1}_4$ $\\sigma_1$ $\\sigma^{-1}_4$ $\\sigma_2$ $\\sigma_3$ $\\sigma_1$ "
      ],
      "text/plain": [
       "<IPython.core.display.Markdown object>"
      ]
     },
     "metadata": {},
     "output_type": "display_data"
    },
    {
     "data": {
      "text/markdown": [
       "$\\sigma_3$ $\\sigma_1$ $\\sigma^{-1}_4$ $\\sigma^{-1}_4$ $\\sigma_1$ $\\sigma^{-1}_4$ $\\sigma_2$ $\\sigma_3$ $\\sigma_1$ "
      ],
      "text/plain": [
       "<IPython.core.display.Markdown object>"
      ]
     },
     "metadata": {},
     "output_type": "display_data"
    },
    {
     "data": {
      "text/markdown": [
       "$\\sigma^{-1}_1$ $\\sigma_3$ $\\sigma_3$ $\\sigma^{-1}_2$ $\\sigma^{-1}_4$ $\\sigma_4$ $\\sigma_3$ $\\sigma^{-1}_2$ $\\sigma_1$ $\\sigma^{-1}_4$ $\\sigma_2$ $\\sigma_3$ $\\sigma_1$ "
      ],
      "text/plain": [
       "<IPython.core.display.Markdown object>"
      ]
     },
     "metadata": {},
     "output_type": "display_data"
    },
    {
     "data": {
      "text/markdown": [
       "$\\sigma^{-1}_2$ $\\sigma^{-1}_1$ $\\sigma_1$ $\\sigma^{-1}_4$ $\\sigma_2$ $\\sigma_3$ $\\sigma_1$ "
      ],
      "text/plain": [
       "<IPython.core.display.Markdown object>"
      ]
     },
     "metadata": {},
     "output_type": "display_data"
    },
    {
     "data": {
      "text/markdown": [
       "$\\sigma_2$ $\\sigma_1$ $\\sigma^{-1}_1$ $\\sigma^{-1}_2$ $\\sigma^{-1}_1$ $\\sigma_4$ $\\sigma_1$ $\\sigma^{-1}_4$ $\\sigma_2$ $\\sigma_3$ $\\sigma_1$ "
      ],
      "text/plain": [
       "<IPython.core.display.Markdown object>"
      ]
     },
     "metadata": {},
     "output_type": "display_data"
    },
    {
     "data": {
      "text/markdown": [
       "$\\sigma^{-1}_1$ $\\sigma_1$ $\\sigma^{-1}_4$ $\\sigma_2$ $\\sigma_3$ $\\sigma_1$ "
      ],
      "text/plain": [
       "<IPython.core.display.Markdown object>"
      ]
     },
     "metadata": {},
     "output_type": "display_data"
    },
    {
     "data": {
      "text/markdown": [
       "$\\sigma_2$ $\\sigma_3$ $\\sigma_4$ $\\sigma_4$ $\\sigma_4$ $\\sigma^{-1}_4$ $\\sigma^{-1}_3$ $\\sigma_1$ $\\sigma^{-1}_4$ $\\sigma_2$ $\\sigma_3$ $\\sigma_1$ "
      ],
      "text/plain": [
       "<IPython.core.display.Markdown object>"
      ]
     },
     "metadata": {},
     "output_type": "display_data"
    },
    {
     "data": {
      "text/markdown": [
       "$\\sigma^{-1}_3$ $\\sigma_3$ $\\sigma_2$ $\\sigma_1$ $\\sigma_2$ $\\sigma_1$ $\\sigma^{-1}_4$ $\\sigma_2$ $\\sigma_3$ $\\sigma_1$ "
      ],
      "text/plain": [
       "<IPython.core.display.Markdown object>"
      ]
     },
     "metadata": {},
     "output_type": "display_data"
    },
    {
     "data": {
      "text/markdown": [
       "$\\sigma^{-1}_3$ $\\sigma_2$ $\\sigma_1$ $\\sigma_1$ $\\sigma_4$ $\\sigma_3$ $\\sigma_1$ $\\sigma_1$ $\\sigma^{-1}_4$ $\\sigma_2$ $\\sigma_3$ $\\sigma_1$ "
      ],
      "text/plain": [
       "<IPython.core.display.Markdown object>"
      ]
     },
     "metadata": {},
     "output_type": "display_data"
    },
    {
     "data": {
      "text/markdown": [
       "$\\sigma_1$ $\\sigma_1$ $\\sigma^{-1}_3$ $\\sigma_2$ $\\sigma_1$ $\\sigma^{-1}_4$ $\\sigma_2$ $\\sigma_3$ $\\sigma_1$ "
      ],
      "text/plain": [
       "<IPython.core.display.Markdown object>"
      ]
     },
     "metadata": {},
     "output_type": "display_data"
    },
    {
     "name": "stdout",
     "output_type": "stream",
     "text": [
      "The number of models:  782\n"
     ]
    }
   ],
   "source": [
    "index = 1\n",
    "with open('./figs/Artin/{directory_name}/{i}.txt'.format(directory_name=directory_name, i=index),'r') as fileop:\n",
    "    data = fileop.readlines()\n",
    "    \n",
    "models = list()\n",
    "for i,_op_str in enumerate(data):\n",
    "    op = eval(_op_str)\n",
    "    _braid_operators = [BraidOperator(x[0],x[1]) for x in op]\n",
    "    _model = obtain_model_braid(n_band, _braid_operators)\n",
    "    \n",
    "    flag = False\n",
    "    for modelc in models:\n",
    "        if _model == modelc:\n",
    "            flag = True\n",
    "            break\n",
    "            \n",
    "    if not flag:\n",
    "        models.append(_model)\n",
    "        \n",
    "for i, _model in enumerate(models[:10]):\n",
    "    show_braid_words(_model.get_braid_words())\n",
    "    #_model.save_band('./figs/Artin/Export/{directory_name}/{index}_{i}.txt'.format(directory_name=directory_name, index=index, i=i))\n",
    "    \n",
    "print(\"The number of models: \", len(models))"
   ]
  },
  {
   "cell_type": "code",
   "execution_count": 11,
   "id": "6ee86204",
   "metadata": {},
   "outputs": [
    {
     "name": "stdout",
     "output_type": "stream",
     "text": [
      "0 The number of models: 12\n",
      "1 The number of models: 782\n"
     ]
    }
   ],
   "source": [
    "for index in [0, 1]:\n",
    "    with open('./figs/Artin/{directory_name}/{i}.txt'.format(directory_name=directory_name, i=index),'r') as fileop:\n",
    "        data = fileop.readlines()\n",
    "\n",
    "    models = list()\n",
    "    for i,_op_str in enumerate(data):\n",
    "        op = eval(_op_str)\n",
    "        _braid_operators = [BraidOperator(x[0],x[1]) for x in op]\n",
    "        _model = obtain_model_braid(n_band, _braid_operators)\n",
    "\n",
    "        flag = False\n",
    "        for modelc in models:\n",
    "            if _model == modelc:\n",
    "                flag = True\n",
    "                break\n",
    "\n",
    "        if not flag:\n",
    "            models.append(_model)\n",
    "\n",
    "    for i, _model in enumerate(models):\n",
    "        #show_braid_words(_model.get_braid_words())\n",
    "        _model.save_band('./figs/Artin/Export/{directory_name}/{index}_{i}.txt'.format(directory_name=directory_name, index=index, i=i))\n",
    "\n",
    "    print(\"{0} The number of models: {1}\".format(index,len(models)))"
   ]
  },
  {
   "cell_type": "markdown",
   "id": "527e5f35",
   "metadata": {},
   "source": [
    "# Test 3"
   ]
  },
  {
   "cell_type": "code",
   "execution_count": 13,
   "id": "559e8202",
   "metadata": {},
   "outputs": [
    {
     "data": {
      "image/png": "[encoded data removed]",
      "text/plain": [
       "<Figure size 640x480 with 1 Axes>"
      ]
     },
     "metadata": {},
     "output_type": "display_data"
    }
   ],
   "source": [
    "directory_name = 'Test 3'\n",
    "\n",
    "\n",
    "with open('./figs/Artin/{directory_name}/group_number.txt'.format(directory_name=directory_name),'r') as fileop:\n",
    "    group_number = fileop.readlines()\n",
    "    \n",
    "group_number = eval(group_number[0])\n",
    "\n",
    "fig = plt.figure()\n",
    "xticks = ['Identical', 'Distinct']\n",
    "yticks = [0, int(np.max(group_number)/2), int(np.max(group_number))]\n",
    "\n",
    "plt.bar(np.arange(len(group_number))+1, group_number)\n",
    "\n",
    "for i, v in enumerate(group_number):\n",
    "    plt.text(i+0.9, v, str(v), fontsize=20)\n",
    "     \n",
    "plt.xticks([1,2], xticks,fontsize=18)\n",
    "plt.yticks(yticks,fontsize=18)\n",
    "\n",
    "plt.xlim([0.5,2+0.5])\n",
    "plt.ylim([0, np.max(group_number)*1.1])\n",
    "\n",
    "plt.xlabel(r\"Phase\",fontsize=20)\n",
    "#plt.ylabel(r\"No. Samples\",fontsize=20,rotation=90,horizontalalignment='right')\n",
    "plt.ylabel(r\"No. Samples\",fontsize=20,rotation=90)\n",
    "plt.tight_layout()\n",
    "plt.savefig('figs_Artin_{0}.svg'.format(directory_name))"
   ]
  },
  {
   "cell_type": "code",
   "execution_count": 15,
   "id": "48529489",
   "metadata": {},
   "outputs": [
    {
     "data": {
      "text/markdown": [
       "$\\sigma_4$ $\\sigma^{-1}_4$ $\\sigma_4$ $\\sigma^{-1}_2$ $\\sigma_4$ $\\sigma_1$ $\\sigma^{-1}_4$ $\\sigma^{-1}_4$ $\\sigma_1$ $\\sigma^{-1}_4$ $\\sigma_2$ $\\sigma_3$ $\\sigma_1$ "
      ],
      "text/plain": [
       "<IPython.core.display.Markdown object>"
      ]
     },
     "metadata": {},
     "output_type": "display_data"
    },
    {
     "data": {
      "text/markdown": [
       "$\\sigma_1$ $\\sigma^{-1}_4$ $\\sigma^{-1}_2$ $\\sigma^{-1}_4$ $\\sigma_3$ $\\sigma_4$ $\\sigma^{-1}_3$ $\\sigma_1$ $\\sigma^{-1}_4$ $\\sigma_2$ $\\sigma_3$ $\\sigma_1$ "
      ],
      "text/plain": [
       "<IPython.core.display.Markdown object>"
      ]
     },
     "metadata": {},
     "output_type": "display_data"
    },
    {
     "data": {
      "text/markdown": [
       "$\\sigma_4$ $\\sigma^{-1}_2$ $\\sigma_1$ $\\sigma^{-1}_3$ $\\sigma_3$ $\\sigma_1$ $\\sigma^{-1}_4$ $\\sigma_2$ $\\sigma_3$ $\\sigma_1$ "
      ],
      "text/plain": [
       "<IPython.core.display.Markdown object>"
      ]
     },
     "metadata": {},
     "output_type": "display_data"
    },
    {
     "data": {
      "text/markdown": [
       "$\\sigma^{-1}_3$ $\\sigma_2$ $\\sigma_1$ $\\sigma^{-1}_4$ $\\sigma_2$ $\\sigma_3$ $\\sigma_1$ "
      ],
      "text/plain": [
       "<IPython.core.display.Markdown object>"
      ]
     },
     "metadata": {},
     "output_type": "display_data"
    },
    {
     "data": {
      "text/markdown": [
       "$\\sigma^{-1}_3$ $\\sigma^{-1}_3$ $\\sigma_1$ $\\sigma^{-1}_1$ $\\sigma^{-1}_3$ $\\sigma_1$ $\\sigma^{-1}_4$ $\\sigma_2$ $\\sigma_3$ $\\sigma_1$ "
      ],
      "text/plain": [
       "<IPython.core.display.Markdown object>"
      ]
     },
     "metadata": {},
     "output_type": "display_data"
    },
    {
     "data": {
      "text/markdown": [
       "$\\sigma_2$ $\\sigma^{-1}_4$ $\\sigma^{-1}_3$ $\\sigma_1$ $\\sigma^{-1}_3$ $\\sigma_2$ $\\sigma_1$ $\\sigma^{-1}_4$ $\\sigma_2$ $\\sigma_3$ $\\sigma_1$ "
      ],
      "text/plain": [
       "<IPython.core.display.Markdown object>"
      ]
     },
     "metadata": {},
     "output_type": "display_data"
    },
    {
     "data": {
      "text/markdown": [
       "$\\sigma_1$ $\\sigma_1$ $\\sigma^{-1}_3$ $\\sigma_3$ $\\sigma^{-1}_1$ $\\sigma_4$ $\\sigma_1$ $\\sigma^{-1}_4$ $\\sigma_2$ $\\sigma_3$ $\\sigma_1$ "
      ],
      "text/plain": [
       "<IPython.core.display.Markdown object>"
      ]
     },
     "metadata": {},
     "output_type": "display_data"
    },
    {
     "data": {
      "text/markdown": [
       "$\\sigma^{-1}_1$ $\\sigma_1$ $\\sigma^{-1}_4$ $\\sigma_2$ $\\sigma_3$ $\\sigma_1$ "
      ],
      "text/plain": [
       "<IPython.core.display.Markdown object>"
      ]
     },
     "metadata": {},
     "output_type": "display_data"
    },
    {
     "data": {
      "text/markdown": [
       "$\\sigma^{-1}_4$ $\\sigma_3$ $\\sigma^{-1}_3$ $\\sigma_2$ $\\sigma_4$ $\\sigma^{-1}_1$ $\\sigma^{-1}_1$ $\\sigma_1$ $\\sigma^{-1}_4$ $\\sigma_2$ $\\sigma_3$ $\\sigma_1$ "
      ],
      "text/plain": [
       "<IPython.core.display.Markdown object>"
      ]
     },
     "metadata": {},
     "output_type": "display_data"
    },
    {
     "data": {
      "text/markdown": [
       "$\\sigma^{-1}_4$ $\\sigma_2$ $\\sigma_2$ $\\sigma_1$ $\\sigma^{-1}_4$ $\\sigma_2$ $\\sigma_3$ $\\sigma_1$ "
      ],
      "text/plain": [
       "<IPython.core.display.Markdown object>"
      ]
     },
     "metadata": {},
     "output_type": "display_data"
    },
    {
     "name": "stdout",
     "output_type": "stream",
     "text": [
      "The number of models:  5519\n"
     ]
    }
   ],
   "source": [
    "index = 1\n",
    "with open('./figs/Artin/{directory_name}/{i}.txt'.format(directory_name=directory_name, i=index),'r') as fileop:\n",
    "    data = fileop.readlines()\n",
    "    \n",
    "models = list()\n",
    "for i,_op_str in enumerate(data):\n",
    "    op = eval(_op_str)\n",
    "    _braid_operators = [BraidOperator(x[0],x[1]) for x in op]\n",
    "    _model = obtain_model_braid(n_band, _braid_operators)\n",
    "    \n",
    "    flag = False\n",
    "    for modelc in models:\n",
    "        if _model == modelc:\n",
    "            flag = True\n",
    "            break\n",
    "            \n",
    "    if not flag:\n",
    "        models.append(_model)\n",
    "        \n",
    "for i, _model in enumerate(models[:10]):\n",
    "    show_braid_words(_model.get_braid_words())\n",
    "    #_model.save_band('./figs/Artin/Export/{directory_name}/{index}_{i}.txt'.format(directory_name=directory_name, index=index, i=i))\n",
    "    \n",
    "print(\"The number of models: \", len(models))"
   ]
  },
  {
   "cell_type": "code",
   "execution_count": 13,
   "id": "0db33c1b",
   "metadata": {},
   "outputs": [
    {
     "name": "stdout",
     "output_type": "stream",
     "text": [
      "0 The number of models: 20\n",
      "1 The number of models: 5519\n"
     ]
    }
   ],
   "source": [
    "for index in [0, 1]:\n",
    "    with open('./figs/Artin/{directory_name}/{i}.txt'.format(directory_name=directory_name, i=index),'r') as fileop:\n",
    "        data = fileop.readlines()\n",
    "\n",
    "    models = list()\n",
    "    for i,_op_str in enumerate(data):\n",
    "        op = eval(_op_str)\n",
    "        _braid_operators = [BraidOperator(x[0],x[1]) for x in op]\n",
    "        _model = obtain_model_braid(n_band, _braid_operators)\n",
    "\n",
    "        flag = False\n",
    "        for modelc in models:\n",
    "            if _model == modelc:\n",
    "                flag = True\n",
    "                break\n",
    "\n",
    "        if not flag:\n",
    "            models.append(_model)\n",
    "\n",
    "    for i, _model in enumerate(models):\n",
    "        #show_braid_words(_model.get_braid_words())\n",
    "        _model.save_band('./figs/Artin/Export/{directory_name}/{index}_{i}.txt'.format(directory_name=directory_name, index=index, i=i))\n",
    "\n",
    "    print(\"{0} The number of models: {1}\".format(index,len(models)))"
   ]
  },
  {
   "cell_type": "code",
   "execution_count": null,
   "id": "3681cbf1",
   "metadata": {},
   "outputs": [],
   "source": []
  }
 ],
 "metadata": {
  "kernelspec": {
   "display_name": "Python 3 (ipykernel)",
   "language": "python",
   "name": "python3"
  },
  "language_info": {
   "codemirror_mode": {
    "name": "ipython",
    "version": 3
   },
   "file_extension": ".py",
   "mimetype": "text/x-python",
   "name": "python",
   "nbconvert_exporter": "python",
   "pygments_lexer": "ipython3",
   "version": "3.8.13"
  }
 },
 "nbformat": 4,
 "nbformat_minor": 5
}
