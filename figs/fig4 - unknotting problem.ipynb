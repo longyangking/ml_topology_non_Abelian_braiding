{
 "cells": [
  {
   "cell_type": "code",
   "execution_count": 1,
   "metadata": {},
   "outputs": [
    {
     "data": {
      "text/plain": [
       "{'divide': 'warn', 'over': 'warn', 'under': 'ignore', 'invalid': 'warn'}"
      ]
     },
     "execution_count": 1,
     "metadata": {},
     "output_type": "execute_result"
    }
   ],
   "source": [
    "import sys \n",
    "sys.path.append(\"..\") \n",
    "\n",
    "import numpy as np\n",
    "from braiding_model import BraidOperator, show_braid_words\n",
    "from braiding_model import GeneratorBraid, obtain_model_braid, obtain_model_torus_knot\n",
    "from braiding_model import sigma_z, sigma_x, sigma_y, sigma_0\n",
    "from braiding_model import PerturbationModel\n",
    "from braiding_model import UnknotGenerator\n",
    "\n",
    "from machine_learning import Classifier, Cluster\n",
    "from topology import topology_comparator, similarity_function\n",
    "from functools import partial\n",
    "\n",
    "import matplotlib.pyplot as plt\n",
    "\n",
    "p1 = PerturbationModel()\n",
    "p1.set_parameters(t1=0.1,t2=0.0)\n",
    "\n",
    "p2 = PerturbationModel()\n",
    "p2.set_parameters(t1=-0.1,t2=0.0)\n",
    "\n",
    "p3 = PerturbationModel()\n",
    "p3.set_parameters(t1=0.1,t2=0.1)\n",
    "\n",
    "p4 = PerturbationModel()\n",
    "p4.set_parameters(t1=0.0,t2=-0.1)\n",
    "\n",
    "perturbations = [p1,p2,p3,p4]\n",
    "\n",
    "np.seterr(all=\"ignore\") # ignore some numerical errors"
   ]
  },
  {
   "cell_type": "markdown",
   "metadata": {},
   "source": [
    "# define unknot "
   ]
  },
  {
   "cell_type": "code",
   "execution_count": 2,
   "metadata": {},
   "outputs": [
    {
     "name": "stdout",
     "output_type": "stream",
     "text": [
      "The number of unknot models:  12\n"
     ]
    },
    {
     "data": {
      "text/markdown": [
       "$\\sigma_1$ $\\sigma_2$ $\\sigma_3$ "
      ],
      "text/plain": [
       "<IPython.core.display.Markdown object>"
      ]
     },
     "metadata": {},
     "output_type": "display_data"
    },
    {
     "data": {
      "text/markdown": [
       "$\\sigma_1$ $\\sigma_3$ $\\sigma_2$ "
      ],
      "text/plain": [
       "<IPython.core.display.Markdown object>"
      ]
     },
     "metadata": {},
     "output_type": "display_data"
    },
    {
     "data": {
      "text/markdown": [
       "$\\sigma_2$ $\\sigma_1$ $\\sigma_3$ "
      ],
      "text/plain": [
       "<IPython.core.display.Markdown object>"
      ]
     },
     "metadata": {},
     "output_type": "display_data"
    },
    {
     "data": {
      "text/markdown": [
       "$\\sigma_2$ $\\sigma_3$ $\\sigma_1$ "
      ],
      "text/plain": [
       "<IPython.core.display.Markdown object>"
      ]
     },
     "metadata": {},
     "output_type": "display_data"
    },
    {
     "data": {
      "text/markdown": [
       "$\\sigma_3$ $\\sigma_1$ $\\sigma_2$ "
      ],
      "text/plain": [
       "<IPython.core.display.Markdown object>"
      ]
     },
     "metadata": {},
     "output_type": "display_data"
    }
   ],
   "source": [
    "n_band = 4\n",
    "generator = UnknotGenerator(n_band=n_band)\n",
    "unknot_models = generator.generate()\n",
    "print(\"The number of unknot models: \", len(unknot_models))\n",
    "for model in unknot_models[:5]:\n",
    "    show_braid_words(model.get_braid_words())"
   ]
  },
  {
   "cell_type": "code",
   "execution_count": 11,
   "metadata": {},
   "outputs": [
    {
     "data": {
      "text/markdown": [
       "$\\sigma_1$ "
      ],
      "text/plain": [
       "<IPython.core.display.Markdown object>"
      ]
     },
     "metadata": {},
     "output_type": "display_data"
    },
    {
     "data": {
      "text/markdown": [
       "$\\sigma_2$ "
      ],
      "text/plain": [
       "<IPython.core.display.Markdown object>"
      ]
     },
     "metadata": {},
     "output_type": "display_data"
    },
    {
     "data": {
      "text/markdown": [
       "$\\sigma_3$ "
      ],
      "text/plain": [
       "<IPython.core.display.Markdown object>"
      ]
     },
     "metadata": {},
     "output_type": "display_data"
    },
    {
     "data": {
      "text/markdown": [
       "$\\sigma^{-1}_1$ "
      ],
      "text/plain": [
       "<IPython.core.display.Markdown object>"
      ]
     },
     "metadata": {},
     "output_type": "display_data"
    },
    {
     "data": {
      "text/markdown": [
       "$\\sigma^{-1}_2$ "
      ],
      "text/plain": [
       "<IPython.core.display.Markdown object>"
      ]
     },
     "metadata": {},
     "output_type": "display_data"
    },
    {
     "data": {
      "text/markdown": [
       "$\\sigma^{-1}_3$ "
      ],
      "text/plain": [
       "<IPython.core.display.Markdown object>"
      ]
     },
     "metadata": {},
     "output_type": "display_data"
    },
    {
     "name": "stdout",
     "output_type": "stream",
     "text": [
      "The number of braids:  1000\n"
     ]
    }
   ],
   "source": [
    "braid_operator_list = [BraidOperator(i) for i in range(1, n_band)] + [BraidOperator(i,True) for i in range(1, n_band)]\n",
    "for op in braid_operator_list:\n",
    "    show_braid_words([op])\n",
    "    \n",
    "generator = GeneratorBraid(n_band=n_band, braid_operator_list=braid_operator_list)\n",
    "#models, braid_operator_list_gen = generator.get_all_combination_generate_sample(n_length=#)\n",
    "models, braid_operator_list_gen = generator.get_random_generate_sample(n_sample=1000, n_max_operator=6)\n",
    "#models, braid_operator_list_gen = generator.get_permutation_generate_sample(n_permutation=6)\n",
    "\n",
    "print(\"The number of braids: \", len(braid_operator_list_gen))"
   ]
  },
  {
   "cell_type": "code",
   "execution_count": 12,
   "metadata": {},
   "outputs": [
    {
     "name": "stdout",
     "output_type": "stream",
     "text": [
      "8.3 %...\n",
      "16.7 %...\n",
      "25.0 %...\n",
      "33.3 %...\n",
      "41.7 %...\n",
      "50.0 %...\n",
      "58.3 %...\n",
      "66.7 %...\n",
      "75.0 %...\n",
      "83.3 %...\n",
      "91.7 %...\n",
      "100.0 %...\n"
     ]
    },
    {
     "data": {
      "text/markdown": [
       "$\\sigma^{-1}_2$ $\\sigma^{-1}_1$ $\\sigma^{-1}_3$ "
      ],
      "text/plain": [
       "<IPython.core.display.Markdown object>"
      ]
     },
     "metadata": {},
     "output_type": "display_data"
    },
    {
     "data": {
      "text/markdown": [
       "$\\sigma_2$ $\\sigma^{-1}_3$ $\\sigma_3$ $\\sigma_1$ $\\sigma_3$ "
      ],
      "text/plain": [
       "<IPython.core.display.Markdown object>"
      ]
     },
     "metadata": {},
     "output_type": "display_data"
    },
    {
     "data": {
      "text/markdown": [
       "$\\sigma^{-1}_1$ $\\sigma^{-1}_3$ $\\sigma^{-1}_2$ "
      ],
      "text/plain": [
       "<IPython.core.display.Markdown object>"
      ]
     },
     "metadata": {},
     "output_type": "display_data"
    },
    {
     "data": {
      "text/markdown": [
       "$\\sigma^{-1}_3$ $\\sigma^{-1}_1$ $\\sigma^{-1}_2$ "
      ],
      "text/plain": [
       "<IPython.core.display.Markdown object>"
      ]
     },
     "metadata": {},
     "output_type": "display_data"
    },
    {
     "data": {
      "text/markdown": [
       "$\\sigma_3$ $\\sigma_2$ $\\sigma_1$ $\\sigma^{-1}_2$ $\\sigma_2$ "
      ],
      "text/plain": [
       "<IPython.core.display.Markdown object>"
      ]
     },
     "metadata": {},
     "output_type": "display_data"
    },
    {
     "data": {
      "text/markdown": [
       "$\\sigma_2$ $\\sigma_1$ $\\sigma_3$ $\\sigma^{-1}_3$ $\\sigma_3$ "
      ],
      "text/plain": [
       "<IPython.core.display.Markdown object>"
      ]
     },
     "metadata": {},
     "output_type": "display_data"
    },
    {
     "data": {
      "text/markdown": [
       "$\\sigma^{-1}_2$ $\\sigma^{-1}_1$ $\\sigma^{-1}_2$ $\\sigma^{-1}_3$ $\\sigma_1$ "
      ],
      "text/plain": [
       "<IPython.core.display.Markdown object>"
      ]
     },
     "metadata": {},
     "output_type": "display_data"
    },
    {
     "data": {
      "text/markdown": [
       "$\\sigma_2$ $\\sigma^{-1}_1$ $\\sigma_3$ $\\sigma_1$ $\\sigma_1$ "
      ],
      "text/plain": [
       "<IPython.core.display.Markdown object>"
      ]
     },
     "metadata": {},
     "output_type": "display_data"
    },
    {
     "data": {
      "text/markdown": [
       "$\\sigma^{-1}_1$ $\\sigma_2$ $\\sigma^{-1}_2$ $\\sigma^{-1}_3$ $\\sigma^{-1}_2$ "
      ],
      "text/plain": [
       "<IPython.core.display.Markdown object>"
      ]
     },
     "metadata": {},
     "output_type": "display_data"
    },
    {
     "data": {
      "text/markdown": [
       "$\\sigma^{-1}_1$ $\\sigma^{-1}_3$ $\\sigma^{-1}_2$ "
      ],
      "text/plain": [
       "<IPython.core.display.Markdown object>"
      ]
     },
     "metadata": {},
     "output_type": "display_data"
    },
    {
     "data": {
      "text/markdown": [
       "$\\sigma_3$ $\\sigma_2$ $\\sigma_1$ "
      ],
      "text/plain": [
       "<IPython.core.display.Markdown object>"
      ]
     },
     "metadata": {},
     "output_type": "display_data"
    },
    {
     "data": {
      "text/markdown": [
       "$\\sigma_2$ $\\sigma_1$ $\\sigma_3$ "
      ],
      "text/plain": [
       "<IPython.core.display.Markdown object>"
      ]
     },
     "metadata": {},
     "output_type": "display_data"
    },
    {
     "data": {
      "text/markdown": [
       "$\\sigma^{-1}_3$ $\\sigma^{-1}_2$ $\\sigma^{-1}_1$ "
      ],
      "text/plain": [
       "<IPython.core.display.Markdown object>"
      ]
     },
     "metadata": {},
     "output_type": "display_data"
    },
    {
     "data": {
      "text/markdown": [
       "$\\sigma^{-1}_2$ $\\sigma^{-1}_3$ $\\sigma^{-1}_1$ "
      ],
      "text/plain": [
       "<IPython.core.display.Markdown object>"
      ]
     },
     "metadata": {},
     "output_type": "display_data"
    },
    {
     "data": {
      "text/markdown": [
       "$\\sigma_3$ $\\sigma_1$ $\\sigma_2$ "
      ],
      "text/plain": [
       "<IPython.core.display.Markdown object>"
      ]
     },
     "metadata": {},
     "output_type": "display_data"
    },
    {
     "data": {
      "text/markdown": [
       "$\\sigma_1$ $\\sigma_3$ $\\sigma_2$ "
      ],
      "text/plain": [
       "<IPython.core.display.Markdown object>"
      ]
     },
     "metadata": {},
     "output_type": "display_data"
    },
    {
     "name": "stdout",
     "output_type": "stream",
     "text": [
      "The number of unknot braids:  16\n"
     ]
    }
   ],
   "source": [
    "import multiprocessing\n",
    "\n",
    "n_core = 64 # the numebr of cores used in computation\n",
    "fast_mode = True\n",
    "func = partial(similarity_function, perturbations=perturbations, fast_mode=fast_mode)\n",
    "find_models_list = list()\n",
    "\n",
    "def worker(X, X0):\n",
    "    return func(X, X0)\n",
    "    \n",
    "n_unknot_models = len(unknot_models)\n",
    "similarities = np.zeros((len(unknot_models), len(models)))\n",
    "for i, unknot_model in enumerate(unknot_models):\n",
    "#     for j, unknot_model in enumerate(unknot_models):\n",
    "#         if func(model, unknot_model) > 0:\n",
    "#             flag = True\n",
    "#             break\n",
    "\n",
    "    f = partial(worker, X0=unknot_model)           \n",
    "    pool = multiprocessing.Pool(n_core)\n",
    "    _similarities = pool.map(f, models)\n",
    "    pool.close()\n",
    "    pool.join()\n",
    "\n",
    "    similarities[i] = _similarities\n",
    "    \n",
    "    if ((i+1)%int(n_unknot_models/10))==0:\n",
    "        print(np.round((i+1)/n_unknot_models*100,1),'%...')\n",
    "    \n",
    "for i, model in enumerate(models):\n",
    "    if np.any(similarities[:,i] > 0.5):\n",
    "        find_models_list.append(model)\n",
    "        show_braid_words(model.get_braid_words())\n",
    "\n",
    "print(\"The number of unknot braids: \", len(find_models_list))"
   ]
  },
  {
   "cell_type": "code",
   "execution_count": 13,
   "metadata": {},
   "outputs": [
    {
     "data": {
      "image/png": "[encoded data removed]",
      "text/plain": [
       "<Figure size 640x480 with 1 Axes>"
      ]
     },
     "metadata": {},
     "output_type": "display_data"
    }
   ],
   "source": [
    "ks = np.linspace(0, 2 * np.pi, 200)\n",
    "\n",
    "index = 0\n",
    "Es = np.array([find_models_list[index].get_energies(k) for k in ks])\n",
    "ax = plt.figure().add_subplot(projection='3d')\n",
    "for index in range(n_band):\n",
    "    x = np.real(Es[:, index])\n",
    "    y = np.imag(Es[:, index])\n",
    "    ax.scatter(x, y, ks/(np.pi), label='{0}'.format(index))\n",
    "    ax.legend()\n",
    "\n",
    "plt.show()"
   ]
  },
  {
   "cell_type": "markdown",
   "metadata": {},
   "source": [
    "# save data"
   ]
  },
  {
   "cell_type": "code",
   "execution_count": 15,
   "metadata": {},
   "outputs": [],
   "source": [
    "with open('./fig4/unknot.txt','w') as fileop: \n",
    "    for model in find_models_list:\n",
    "        fileop.write(str([(op.get_n(), op.get_is_inverse()) for op in model.get_braid_words()])+'\\n')"
   ]
  },
  {
   "cell_type": "code",
   "execution_count": 16,
   "metadata": {},
   "outputs": [
    {
     "data": {
      "text/markdown": [
       "$\\sigma^{-1}_2$ $\\sigma^{-1}_1$ $\\sigma^{-1}_3$ "
      ],
      "text/plain": [
       "<IPython.core.display.Markdown object>"
      ]
     },
     "metadata": {},
     "output_type": "display_data"
    },
    {
     "data": {
      "text/markdown": [
       "$\\sigma_2$ $\\sigma^{-1}_3$ $\\sigma_3$ $\\sigma_1$ $\\sigma_3$ "
      ],
      "text/plain": [
       "<IPython.core.display.Markdown object>"
      ]
     },
     "metadata": {},
     "output_type": "display_data"
    },
    {
     "data": {
      "text/markdown": [
       "$\\sigma^{-1}_1$ $\\sigma^{-1}_3$ $\\sigma^{-1}_2$ "
      ],
      "text/plain": [
       "<IPython.core.display.Markdown object>"
      ]
     },
     "metadata": {},
     "output_type": "display_data"
    },
    {
     "data": {
      "text/markdown": [
       "$\\sigma^{-1}_3$ $\\sigma^{-1}_1$ $\\sigma^{-1}_2$ "
      ],
      "text/plain": [
       "<IPython.core.display.Markdown object>"
      ]
     },
     "metadata": {},
     "output_type": "display_data"
    },
    {
     "data": {
      "text/markdown": [
       "$\\sigma_3$ $\\sigma_2$ $\\sigma_1$ $\\sigma^{-1}_2$ $\\sigma_2$ "
      ],
      "text/plain": [
       "<IPython.core.display.Markdown object>"
      ]
     },
     "metadata": {},
     "output_type": "display_data"
    },
    {
     "data": {
      "text/markdown": [
       "$\\sigma_2$ $\\sigma_1$ $\\sigma_3$ $\\sigma^{-1}_3$ $\\sigma_3$ "
      ],
      "text/plain": [
       "<IPython.core.display.Markdown object>"
      ]
     },
     "metadata": {},
     "output_type": "display_data"
    },
    {
     "data": {
      "text/markdown": [
       "$\\sigma^{-1}_2$ $\\sigma^{-1}_1$ $\\sigma^{-1}_2$ $\\sigma^{-1}_3$ $\\sigma_1$ "
      ],
      "text/plain": [
       "<IPython.core.display.Markdown object>"
      ]
     },
     "metadata": {},
     "output_type": "display_data"
    },
    {
     "data": {
      "text/markdown": [
       "$\\sigma_2$ $\\sigma^{-1}_1$ $\\sigma_3$ $\\sigma_1$ $\\sigma_1$ "
      ],
      "text/plain": [
       "<IPython.core.display.Markdown object>"
      ]
     },
     "metadata": {},
     "output_type": "display_data"
    },
    {
     "data": {
      "text/markdown": [
       "$\\sigma^{-1}_1$ $\\sigma_2$ $\\sigma^{-1}_2$ $\\sigma^{-1}_3$ $\\sigma^{-1}_2$ "
      ],
      "text/plain": [
       "<IPython.core.display.Markdown object>"
      ]
     },
     "metadata": {},
     "output_type": "display_data"
    },
    {
     "data": {
      "text/markdown": [
       "$\\sigma^{-1}_1$ $\\sigma^{-1}_3$ $\\sigma^{-1}_2$ "
      ],
      "text/plain": [
       "<IPython.core.display.Markdown object>"
      ]
     },
     "metadata": {},
     "output_type": "display_data"
    },
    {
     "data": {
      "text/markdown": [
       "$\\sigma_3$ $\\sigma_2$ $\\sigma_1$ "
      ],
      "text/plain": [
       "<IPython.core.display.Markdown object>"
      ]
     },
     "metadata": {},
     "output_type": "display_data"
    },
    {
     "data": {
      "text/markdown": [
       "$\\sigma_2$ $\\sigma_1$ $\\sigma_3$ "
      ],
      "text/plain": [
       "<IPython.core.display.Markdown object>"
      ]
     },
     "metadata": {},
     "output_type": "display_data"
    },
    {
     "data": {
      "text/markdown": [
       "$\\sigma^{-1}_3$ $\\sigma^{-1}_2$ $\\sigma^{-1}_1$ "
      ],
      "text/plain": [
       "<IPython.core.display.Markdown object>"
      ]
     },
     "metadata": {},
     "output_type": "display_data"
    },
    {
     "data": {
      "text/markdown": [
       "$\\sigma^{-1}_2$ $\\sigma^{-1}_3$ $\\sigma^{-1}_1$ "
      ],
      "text/plain": [
       "<IPython.core.display.Markdown object>"
      ]
     },
     "metadata": {},
     "output_type": "display_data"
    },
    {
     "data": {
      "text/markdown": [
       "$\\sigma_3$ $\\sigma_1$ $\\sigma_2$ "
      ],
      "text/plain": [
       "<IPython.core.display.Markdown object>"
      ]
     },
     "metadata": {},
     "output_type": "display_data"
    },
    {
     "data": {
      "text/markdown": [
       "$\\sigma_1$ $\\sigma_3$ $\\sigma_2$ "
      ],
      "text/plain": [
       "<IPython.core.display.Markdown object>"
      ]
     },
     "metadata": {},
     "output_type": "display_data"
    }
   ],
   "source": [
    "for i, model in enumerate(find_models_list):\n",
    "    show_braid_words(model.get_braid_words())\n",
    "    model.save_band('./fig4/case {i}.txt'.format(i=i))"
   ]
  },
  {
   "cell_type": "code",
   "execution_count": 19,
   "metadata": {},
   "outputs": [],
   "source": [
    "unknot_models[0].save_band('./fig4/unknot_bands.txt')"
   ]
  },
  {
   "cell_type": "code",
   "execution_count": null,
   "metadata": {},
   "outputs": [],
   "source": []
  }
 ],
 "metadata": {
  "kernelspec": {
   "display_name": "Python 3 (ipykernel)",
   "language": "python",
   "name": "python3"
  },
  "language_info": {
   "codemirror_mode": {
    "name": "ipython",
    "version": 3
   },
   "file_extension": ".py",
   "mimetype": "text/x-python",
   "name": "python",
   "nbconvert_exporter": "python",
   "pygments_lexer": "ipython3",
   "version": "3.8.13"
  }
 },
 "nbformat": 4,
 "nbformat_minor": 2
}
