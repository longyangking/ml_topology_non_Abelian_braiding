{
 "cells": [
  {
   "cell_type": "code",
   "execution_count": 1,
   "id": "e1d6870a",
   "metadata": {},
   "outputs": [
    {
     "data": {
      "text/plain": [
       "{'divide': 'warn', 'over': 'warn', 'under': 'ignore', 'invalid': 'warn'}"
      ]
     },
     "execution_count": 1,
     "metadata": {},
     "output_type": "execute_result"
    }
   ],
   "source": [
    "import sys \n",
    "sys.path.append(\"..\") \n",
    "import os\n",
    "\n",
    "import numpy as np\n",
    "from braiding_model import BraidOperator, show_braid_words\n",
    "from braiding_model import GeneratorBraid, obtain_model_braid, obtain_model_torus_knot\n",
    "from braiding_model import sigma_z, sigma_x, sigma_y, sigma_0\n",
    "from braiding_model import PerturbationModel\n",
    "\n",
    "from machine_learning import Classifier, Cluster\n",
    "from topology import topology_comparator, similarity_function\n",
    "from functools import partial\n",
    "\n",
    "import matplotlib.pyplot as plt\n",
    "\n",
    "p1 = PerturbationModel()\n",
    "p1.set_parameters(t1=0.1,t2=0.0)\n",
    "\n",
    "p2 = PerturbationModel()\n",
    "p2.set_parameters(t1=-0.1,t2=0.0)\n",
    "\n",
    "p3 = PerturbationModel()\n",
    "p3.set_parameters(t1=0.1,t2=0.1)\n",
    "\n",
    "p4 = PerturbationModel()\n",
    "p4.set_parameters(t1=0.0,t2=-0.1)\n",
    "\n",
    "perturbations = [p1,p2,p3,p4]\n",
    "\n",
    "np.seterr(all=\"ignore\") # ignore some numerical errors"
   ]
  },
  {
   "cell_type": "markdown",
   "id": "59a5bd2e",
   "metadata": {},
   "source": [
    "# test"
   ]
  },
  {
   "cell_type": "code",
   "execution_count": 8,
   "id": "2401566f",
   "metadata": {},
   "outputs": [
    {
     "name": "stdout",
     "output_type": "stream",
     "text": [
      "The number of braids:  100\n"
     ]
    },
    {
     "data": {
      "text/markdown": [
       "$\\sigma_1$ $\\sigma^{-1}_2$ $\\sigma^{-1}_1$ $\\sigma_2$ $\\sigma_1$ "
      ],
      "text/plain": [
       "<IPython.core.display.Markdown object>"
      ]
     },
     "metadata": {},
     "output_type": "display_data"
    },
    {
     "data": {
      "text/markdown": [
       "$\\sigma^{-1}_2$ $\\sigma^{-1}_2$ $\\sigma^{-1}_1$ $\\sigma^{-1}_2$ $\\sigma_1$ "
      ],
      "text/plain": [
       "<IPython.core.display.Markdown object>"
      ]
     },
     "metadata": {},
     "output_type": "display_data"
    },
    {
     "data": {
      "text/markdown": [
       "$\\sigma^{-1}_1$ $\\sigma_2$ $\\sigma^{-1}_1$ "
      ],
      "text/plain": [
       "<IPython.core.display.Markdown object>"
      ]
     },
     "metadata": {},
     "output_type": "display_data"
    },
    {
     "data": {
      "text/markdown": [
       "$\\sigma^{-1}_2$ "
      ],
      "text/plain": [
       "<IPython.core.display.Markdown object>"
      ]
     },
     "metadata": {},
     "output_type": "display_data"
    },
    {
     "data": {
      "text/markdown": [
       "$\\sigma^{-1}_1$ $\\sigma^{-1}_1$ $\\sigma_2$ $\\sigma_1$ "
      ],
      "text/plain": [
       "<IPython.core.display.Markdown object>"
      ]
     },
     "metadata": {},
     "output_type": "display_data"
    },
    {
     "data": {
      "text/markdown": [
       "$\\sigma^{-1}_2$ "
      ],
      "text/plain": [
       "<IPython.core.display.Markdown object>"
      ]
     },
     "metadata": {},
     "output_type": "display_data"
    },
    {
     "data": {
      "text/markdown": [
       "$\\sigma^{-1}_1$ $\\sigma^{-1}_2$ "
      ],
      "text/plain": [
       "<IPython.core.display.Markdown object>"
      ]
     },
     "metadata": {},
     "output_type": "display_data"
    },
    {
     "data": {
      "text/markdown": [
       "$\\sigma^{-1}_2$ $\\sigma^{-1}_2$ $\\sigma_1$ $\\sigma_2$ $\\sigma_1$ "
      ],
      "text/plain": [
       "<IPython.core.display.Markdown object>"
      ]
     },
     "metadata": {},
     "output_type": "display_data"
    },
    {
     "data": {
      "text/markdown": [
       "$\\sigma_1$ $\\sigma^{-1}_1$ $\\sigma^{-1}_1$ $\\sigma_2$ $\\sigma^{-1}_2$ "
      ],
      "text/plain": [
       "<IPython.core.display.Markdown object>"
      ]
     },
     "metadata": {},
     "output_type": "display_data"
    },
    {
     "data": {
      "text/markdown": [
       "$\\sigma_2$ $\\sigma^{-1}_2$ $\\sigma^{-1}_2$ $\\sigma^{-1}_1$ "
      ],
      "text/plain": [
       "<IPython.core.display.Markdown object>"
      ]
     },
     "metadata": {},
     "output_type": "display_data"
    }
   ],
   "source": [
    "n_band = 3\n",
    "braid_operator_list = [\n",
    "    BraidOperator(1), BraidOperator(1, True),\n",
    "    BraidOperator(2), BraidOperator(2, True)\n",
    "]\n",
    "generator = GeneratorBraid(n_band=n_band, braid_operator_list=braid_operator_list)\n",
    "\n",
    "#models, braid_operator_list_gen = generator.get_all_combination_generate_sample(n_length=3)\n",
    "#models, braid_operator_list_gen = generator.get_permutation_generate_sample(n_permutation=3)\n",
    "models, braid_operator_list_gen = generator.get_random_generate_sample(n_sample=100, n_max_operator=5)\n",
    "print(\"The number of braids: \", len(braid_operator_list_gen))\n",
    "\n",
    "for operator_list in braid_operator_list_gen[:10]:\n",
    "    show_braid_words(operator_list)"
   ]
  },
  {
   "cell_type": "markdown",
   "id": "4b5cbf24",
   "metadata": {},
   "source": [
    "# $\\mathbb{B}_3$"
   ]
  },
  {
   "cell_type": "code",
   "execution_count": 20,
   "id": "c68a36c3",
   "metadata": {},
   "outputs": [
    {
     "name": "stdout",
     "output_type": "stream",
     "text": [
      "The number of braids:  1000\n",
      "Centers:  [12, 2, 15, 24, 3, 11, 39, 71, 16, 4, 45, 122, 5, 32, 25, 42, 13, 0, 38, 250, 145, 17, 48, 9, 66, 86, 120, 111, 40, 61, 217, 35, 26, 6, 161, 64, 75, 158, 115, 107, 103, 275, 100, 53, 222, 317, 596, 136, 448, 52, 472, 612, 132, 294, 515, 576, 408, 367, 358, 778, 349, 320, 796, 452, 355, 258, 73, 276, 14, 207, 211, 19, 1, 978, 656, 713, 722, 745, 772, 774, 21, 298, 805, 835, 847, 876, 952, 956, 959, 968, 977, 653, 630, 91, 607, 357, 233, 392, 183, 410, 141, 451, 130, 231, 468, 505, 316, 537, 571, 574, 304, 593, 102, 10, 996]\n",
      "The number of samples:  [102, 90, 89, 86, 67, 25, 25, 23, 21, 21, 21, 20, 18, 18, 18, 17, 15, 14, 13, 13, 12, 11, 11, 11, 10, 10, 9, 8, 8, 7, 7, 7, 6, 6, 6, 5, 5, 5, 5, 5, 5, 4, 4, 4, 4, 4, 4, 4, 3, 3, 3, 3, 3, 2, 2, 2, 2, 2, 2, 2, 2, 2, 2, 2, 2, 2, 2, 2, 2, 2, 2, 2, 2, 1, 1, 1, 1, 1, 1, 1, 1, 1, 1, 1, 1, 1, 1, 1, 1, 1, 1, 1, 1, 1, 1, 1, 1, 1, 1, 1, 1, 1, 1, 1, 1, 1, 1, 1, 1, 1, 1, 1, 1, 1, 1]\n"
     ]
    },
    {
     "data": {
      "image/png": "[encoded data removed]",
      "text/plain": [
       "<Figure size 640x480 with 1 Axes>"
      ]
     },
     "metadata": {},
     "output_type": "display_data"
    }
   ],
   "source": [
    "n_band = 3\n",
    "n_max_operator = 5\n",
    "n_sample = 1000\n",
    "braid_operator_list = [\n",
    "    BraidOperator(1), BraidOperator(1, True),\n",
    "    BraidOperator(2), BraidOperator(2, True)\n",
    "]\n",
    "generator = GeneratorBraid(n_band=n_band, braid_operator_list=braid_operator_list)\n",
    "\n",
    "models, braid_operator_list_gen = generator.get_random_generate_sample(n_sample=n_sample, n_max_operator=n_max_operator)\n",
    "print(\"The number of braids: \", len(braid_operator_list_gen))\n",
    "\n",
    "n_core = 8\n",
    "fast_mode = True\n",
    "func = partial(similarity_function, perturbations=perturbations, fast_mode=fast_mode)\n",
    "cluster = Cluster(similarity_function=func, n_core=n_core, verbose=False)\n",
    "center_indices, group_number, groups = cluster.fit(models)\n",
    "\n",
    "print(\"Centers: \", center_indices)\n",
    "print(\"The number of samples: \", group_number)"
   ]
  },
  {
   "cell_type": "code",
   "execution_count": 21,
   "id": "589c0851",
   "metadata": {},
   "outputs": [
    {
     "data": {
      "image/png": "[encoded data removed]",
      "text/plain": [
       "<Figure size 640x480 with 1 Axes>"
      ]
     },
     "metadata": {},
     "output_type": "display_data"
    }
   ],
   "source": [
    "fig = plt.figure()\n",
    "xticks = list(range(1,len(center_indices)+1, 20))\n",
    "yticks = [0, int(np.max(group_number)/2), int(np.max(group_number))]\n",
    "\n",
    "plt.bar(np.arange(len(group_number))+1, group_number)\n",
    "plt.xticks(xticks,fontsize=18)\n",
    "plt.yticks(yticks,fontsize=18)\n",
    "\n",
    "plt.xlim([0.5,len(center_indices)+0.5])\n",
    "plt.ylim([0, np.max(group_number)*1.1])\n",
    "\n",
    "plt.xlabel(r\"$c$\",fontsize=20)\n",
    "plt.ylabel(r\"$M$\",fontsize=20,rotation=0,horizontalalignment='right')\n",
    "plt.tight_layout()\n",
    "plt.savefig('figs_B{0}.svg'.format(n_band))"
   ]
  },
  {
   "cell_type": "code",
   "execution_count": 22,
   "id": "0867a35a",
   "metadata": {},
   "outputs": [],
   "source": [
    "directory_name = 'B{0}'.format(n_band)\n",
    "\n",
    "if not os.path.exists('./figs/more_cases/{directory_name}'.format(directory_name=directory_name)):\n",
    "    os.mkdir('./figs/more_cases/{directory_name}'.format(directory_name=directory_name))\n",
    "\n",
    "with open('./figs/more_cases/{directory_name}/group_number.txt'.format(directory_name=directory_name),'w') as fileop: \n",
    "    fileop.write(str(group_number))\n",
    "    \n",
    "for i, group in enumerate(groups):\n",
    "    with open('./figs/more_cases/{directory_name}/{i}.txt'.format(directory_name=directory_name, i=i),'w') as fileop: \n",
    "        for model in [models[index] for index in groups[i]]:\n",
    "            fileop.write(str([(op.get_n(), op.get_is_inverse()) for op in model.get_braid_words()])+'\\n')"
   ]
  },
  {
   "cell_type": "markdown",
   "id": "3787bd0d",
   "metadata": {},
   "source": [
    "# $\\mathbb{B}_4$"
   ]
  },
  {
   "cell_type": "code",
   "execution_count": 12,
   "id": "5828157c",
   "metadata": {},
   "outputs": [
    {
     "name": "stdout",
     "output_type": "stream",
     "text": [
      "The number of braids:  1000\n",
      "Centers:  [0, 2, 16, 3, 24, 64, 5, 103, 4, 25, 153, 97, 170, 45, 47, 113, 32, 26, 21, 263, 239, 20, 140, 8, 109, 73, 104, 28, 175, 14, 92, 11, 193, 36, 54, 83, 322, 195, 10, 37, 150, 129, 525, 118, 115, 138, 101, 105, 67, 71, 23, 237, 40, 255, 397, 155, 146, 442, 187, 221, 435, 703, 434, 281, 408, 337, 100, 56, 61, 62, 6, 90, 9, 1, 99, 33, 282, 284, 287, 299, 319, 321, 339, 357, 368, 857, 29, 427, 430, 780, 436, 278, 454, 467, 484, 505, 779, 532, 553, 597, 638, 653, 689, 256, 438, 192, 55, 168, 117, 163, 130, 72, 210, 215, 95, 632, 777, 752, 748, 740, 738, 736, 575, 734, 731, 713, 711, 706, 131, 137, 142, 601, 686, 678, 617, 618, 619, 622, 665, 88, 623, 647, 640, 141, 635, 626, 669, 39, 574, 900, 904, 909, 914, 915, 923, 926, 931, 939, 941, 961, 964, 976, 979, 981, 896, 880, 875, 874, 793, 797, 801, 802, 805, 808, 814, 787, 836, 842, 844, 846, 849, 851, 867, 870, 837, 564, 79, 559, 332, 333, 335, 983, 207, 341, 342, 346, 348, 354, 202, 371, 377, 379, 383, 327, 392, 324, 214, 244, 38, 266, 268, 270, 271, 44, 279, 51, 235, 52, 219, 295, 298, 309, 31, 562, 394, 403, 471, 477, 151, 502, 77, 506, 510, 519, 149, 147, 540, 541, 544, 254, 556, 468, 400, 74, 441, 18, 409, 413, 414, 415, 418, 419, 423, 425, 58, 186, 431, 17, 13, 107, 452, 990]\n",
      "The number of samples:  [65, 62, 56, 49, 46, 45, 33, 19, 17, 15, 14, 13, 12, 11, 10, 10, 10, 10, 10, 9, 9, 9, 8, 8, 8, 7, 7, 7, 7, 7, 7, 7, 7, 6, 6, 5, 5, 5, 5, 5, 5, 5, 4, 4, 4, 4, 4, 4, 4, 4, 4, 4, 4, 4, 4, 3, 3, 3, 3, 3, 3, 3, 3, 3, 3, 3, 3, 3, 3, 3, 3, 3, 3, 3, 3, 2, 2, 2, 2, 2, 2, 2, 2, 2, 2, 2, 2, 2, 2, 2, 2, 2, 2, 2, 2, 2, 2, 2, 2, 2, 2, 2, 2, 2, 2, 2, 2, 2, 2, 2, 2, 2, 2, 2, 2, 1, 1, 1, 1, 1, 1, 1, 1, 1, 1, 1, 1, 1, 1, 1, 1, 1, 1, 1, 1, 1, 1, 1, 1, 1, 1, 1, 1, 1, 1, 1, 1, 1, 1, 1, 1, 1, 1, 1, 1, 1, 1, 1, 1, 1, 1, 1, 1, 1, 1, 1, 1, 1, 1, 1, 1, 1, 1, 1, 1, 1, 1, 1, 1, 1, 1, 1, 1, 1, 1, 1, 1, 1, 1, 1, 1, 1, 1, 1, 1, 1, 1, 1, 1, 1, 1, 1, 1, 1, 1, 1, 1, 1, 1, 1, 1, 1, 1, 1, 1, 1, 1, 1, 1, 1, 1, 1, 1, 1, 1, 1, 1, 1, 1, 1, 1, 1, 1, 1, 1, 1, 1, 1, 1, 1, 1, 1, 1, 1, 1, 1, 1, 1, 1, 1, 1, 1, 1, 1, 1, 1, 1, 1, 1, 1, 1, 1]\n"
     ]
    },
    {
     "data": {
      "image/png": "[encoded data removed]",
      "text/plain": [
       "<Figure size 640x480 with 1 Axes>"
      ]
     },
     "metadata": {},
     "output_type": "display_data"
    }
   ],
   "source": [
    "n_band = 4\n",
    "n_max_operator = 5\n",
    "n_sample = 1000\n",
    "braid_operator_list = [\n",
    "    BraidOperator(1), BraidOperator(1, True),\n",
    "    BraidOperator(2), BraidOperator(2, True),\n",
    "    BraidOperator(3), BraidOperator(3, True)\n",
    "]\n",
    "generator = GeneratorBraid(n_band=n_band, braid_operator_list=braid_operator_list)\n",
    "\n",
    "models, braid_operator_list_gen = generator.get_random_generate_sample(n_sample=n_sample, n_max_operator=n_max_operator)\n",
    "print(\"The number of braids: \", len(braid_operator_list_gen))\n",
    "\n",
    "n_core = 8\n",
    "fast_mode = True\n",
    "func = partial(similarity_function, perturbations=perturbations, fast_mode=fast_mode)\n",
    "cluster = Cluster(similarity_function=func, n_core=n_core, verbose=False)\n",
    "center_indices, group_number, groups = cluster.fit(models)\n",
    "\n",
    "print(\"Centers: \", center_indices)\n",
    "print(\"The number of samples: \", group_number)"
   ]
  },
  {
   "cell_type": "code",
   "execution_count": 14,
   "id": "ff7c3bca",
   "metadata": {},
   "outputs": [
    {
     "data": {
      "image/png": "[encoded data removed]",
      "text/plain": [
       "<Figure size 640x480 with 1 Axes>"
      ]
     },
     "metadata": {},
     "output_type": "display_data"
    }
   ],
   "source": [
    "fig = plt.figure()\n",
    "xticks = list(range(1,len(center_indices)+1, 40))\n",
    "yticks = [0, int(np.max(group_number)/2), int(np.max(group_number))]\n",
    "\n",
    "plt.bar(np.arange(len(group_number))+1, group_number)\n",
    "plt.xticks(xticks,fontsize=18)\n",
    "plt.yticks(yticks,fontsize=18)\n",
    "\n",
    "plt.xlim([0.5,len(center_indices)+0.5])\n",
    "plt.ylim([0, np.max(group_number)*1.1])\n",
    "\n",
    "plt.xlabel(r\"$c$\",fontsize=20)\n",
    "plt.ylabel(r\"$M$\",fontsize=20,rotation=0,horizontalalignment='right')\n",
    "plt.tight_layout()\n",
    "plt.savefig('figs_B{0}.svg'.format(n_band))"
   ]
  },
  {
   "cell_type": "code",
   "execution_count": 15,
   "id": "fc3c8e18",
   "metadata": {},
   "outputs": [],
   "source": [
    "directory_name = 'B{0}'.format(n_band)\n",
    "\n",
    "if not os.path.exists('./figs/more_cases/{directory_name}'.format(directory_name=directory_name)):\n",
    "    os.mkdir('./figs/more_cases/{directory_name}'.format(directory_name=directory_name))\n",
    "\n",
    "with open('./figs/more_cases/{directory_name}/group_number.txt'.format(directory_name=directory_name),'w') as fileop: \n",
    "    fileop.write(str(group_number))\n",
    "    \n",
    "for i, group in enumerate(groups):\n",
    "    with open('./figs/more_cases/{directory_name}/{i}.txt'.format(directory_name=directory_name, i=i),'w') as fileop: \n",
    "        for model in [models[index] for index in groups[i]]:\n",
    "            fileop.write(str([(op.get_n(), op.get_is_inverse()) for op in model.get_braid_words()])+'\\n')"
   ]
  },
  {
   "cell_type": "markdown",
   "id": "36f665e3",
   "metadata": {},
   "source": [
    "# $\\mathbb{B}_5$"
   ]
  },
  {
   "cell_type": "code",
   "execution_count": 16,
   "id": "6a3289dc",
   "metadata": {},
   "outputs": [
    {
     "name": "stdout",
     "output_type": "stream",
     "text": [
      "The number of braids:  1000\n",
      "Centers:  [49, 9, 20, 10, 14, 41, 78, 32, 28, 68, 25, 181, 61, 65, 2, 393, 167, 22, 34, 116, 76, 27, 242, 15, 37, 235, 89, 308, 43, 105, 174, 40, 16, 342, 45, 81, 60, 403, 55, 69, 506, 91, 275, 586, 306, 623, 152, 50, 908, 88, 94, 427, 111, 329, 650, 74, 483, 145, 279, 379, 550, 250, 269, 57, 31, 53, 367, 35, 307, 436, 751, 352, 738, 239, 160, 315, 156, 446, 149, 170, 726, 828, 276, 827, 194, 552, 199, 368, 766, 270, 404, 210, 769, 450, 260, 277, 562, 124, 320, 515, 58, 56, 524, 601, 82, 33, 29, 95, 98, 482, 64, 539, 106, 12, 103, 137, 122, 5, 4, 126, 575, 107, 978, 135, 8, 712, 704, 592, 703, 729, 566, 591, 590, 589, 582, 576, 720, 708, 713, 573, 698, 638, 593, 636, 635, 645, 626, 648, 622, 649, 620, 618, 651, 615, 652, 697, 655, 610, 659, 675, 677, 609, 605, 680, 681, 599, 637, 690, 694, 658, 597, 0, 734, 913, 912, 904, 899, 898, 896, 914, 893, 889, 888, 881, 880, 879, 875, 890, 915, 917, 920, 988, 984, 979, 976, 973, 971, 969, 965, 959, 949, 941, 938, 931, 930, 925, 868, 864, 862, 860, 777, 776, 774, 772, 771, 761, 758, 756, 749, 747, 742, 740, 739, 736, 735, 783, 730, 791, 798, 855, 853, 850, 848, 846, 843, 840, 838, 831, 817, 813, 810, 807, 801, 800, 797, 820, 387, 544, 146, 147, 148, 151, 154, 157, 162, 169, 173, 178, 182, 183, 184, 189, 143, 191, 195, 197, 203, 208, 209, 222, 226, 227, 231, 240, 241, 252, 254, 255, 193, 259, 139, 132, 1, 3, 6, 7, 11, 13, 18, 19, 23, 24, 30, 46, 59, 62, 134, 66, 71, 75, 77, 80, 83, 84, 92, 96, 100, 101, 115, 127, 130, 131, 70, 261, 268, 271, 439, 440, 444, 447, 451, 454, 455, 456, 458, 462, 470, 472, 474, 477, 437, 484, 488, 494, 498, 505, 511, 516, 520, 528, 530, 532, 535, 537, 541, 542, 487, 431, 424, 423, 272, 283, 287, 288, 292, 294, 295, 298, 299, 300, 310, 318, 319, 325, 335, 339, 341, 409, 408, 405, 990, 385, 384, 553, 382, 377, 376, 371, 360, 351, 344, 378, 993]\n",
      "The number of samples:  [42, 41, 37, 36, 36, 30, 30, 28, 25, 13, 11, 11, 11, 11, 10, 10, 9, 9, 9, 8, 8, 8, 8, 7, 7, 7, 7, 7, 6, 6, 5, 5, 5, 5, 5, 5, 5, 4, 4, 4, 4, 4, 4, 4, 4, 4, 4, 4, 3, 3, 3, 3, 3, 3, 3, 3, 3, 3, 3, 3, 3, 3, 3, 3, 3, 3, 3, 3, 3, 2, 2, 2, 2, 2, 2, 2, 2, 2, 2, 2, 2, 2, 2, 2, 2, 2, 2, 2, 2, 2, 2, 2, 2, 2, 2, 2, 2, 2, 2, 2, 2, 2, 2, 2, 2, 2, 2, 2, 2, 2, 2, 2, 2, 2, 2, 2, 2, 2, 2, 2, 2, 2, 2, 2, 2, 1, 1, 1, 1, 1, 1, 1, 1, 1, 1, 1, 1, 1, 1, 1, 1, 1, 1, 1, 1, 1, 1, 1, 1, 1, 1, 1, 1, 1, 1, 1, 1, 1, 1, 1, 1, 1, 1, 1, 1, 1, 1, 1, 1, 1, 1, 1, 1, 1, 1, 1, 1, 1, 1, 1, 1, 1, 1, 1, 1, 1, 1, 1, 1, 1, 1, 1, 1, 1, 1, 1, 1, 1, 1, 1, 1, 1, 1, 1, 1, 1, 1, 1, 1, 1, 1, 1, 1, 1, 1, 1, 1, 1, 1, 1, 1, 1, 1, 1, 1, 1, 1, 1, 1, 1, 1, 1, 1, 1, 1, 1, 1, 1, 1, 1, 1, 1, 1, 1, 1, 1, 1, 1, 1, 1, 1, 1, 1, 1, 1, 1, 1, 1, 1, 1, 1, 1, 1, 1, 1, 1, 1, 1, 1, 1, 1, 1, 1, 1, 1, 1, 1, 1, 1, 1, 1, 1, 1, 1, 1, 1, 1, 1, 1, 1, 1, 1, 1, 1, 1, 1, 1, 1, 1, 1, 1, 1, 1, 1, 1, 1, 1, 1, 1, 1, 1, 1, 1, 1, 1, 1, 1, 1, 1, 1, 1, 1, 1, 1, 1, 1, 1, 1, 1, 1, 1, 1, 1, 1, 1, 1, 1, 1, 1, 1, 1, 1, 1, 1, 1, 1, 1, 1, 1, 1, 1, 1, 1, 1, 1, 1, 1, 1, 1, 1, 1, 1, 1, 1, 1, 1, 1, 1, 1, 1, 1, 1, 1, 1, 1, 1, 1, 1, 1, 1, 1, 1, 1]\n"
     ]
    }
   ],
   "source": [
    "n_band = 5\n",
    "n_max_operator = 5\n",
    "n_sample = 1000\n",
    "braid_operator_list = [BraidOperator(i) for i in range(1, n_band)] + [BraidOperator(-i) for i in range(1, n_band)]\n",
    "generator = GeneratorBraid(n_band=n_band, braid_operator_list=braid_operator_list)\n",
    "\n",
    "models, braid_operator_list_gen = generator.get_random_generate_sample(n_sample=n_sample, n_max_operator=n_max_operator)\n",
    "print(\"The number of braids: \", len(braid_operator_list_gen))\n",
    "\n",
    "n_core = 8\n",
    "fast_mode = True\n",
    "func = partial(similarity_function, perturbations=perturbations, fast_mode=fast_mode)\n",
    "cluster = Cluster(similarity_function=func, n_core=n_core, verbose=False)\n",
    "center_indices, group_number, groups = cluster.fit(models)\n",
    "\n",
    "print(\"Centers: \", center_indices)\n",
    "print(\"The number of samples: \", group_number)"
   ]
  },
  {
   "cell_type": "code",
   "execution_count": 19,
   "id": "7f8fbf72",
   "metadata": {},
   "outputs": [
    {
     "data": {
      "image/png": "[encoded data removed]",
      "text/plain": [
       "<Figure size 640x480 with 1 Axes>"
      ]
     },
     "metadata": {},
     "output_type": "display_data"
    }
   ],
   "source": [
    "fig = plt.figure()\n",
    "xticks = list(range(1,len(center_indices)+1, 50))\n",
    "yticks = [0, int(np.max(group_number)/2), int(np.max(group_number))]\n",
    "\n",
    "plt.bar(np.arange(len(group_number))+1, group_number)\n",
    "plt.xticks(xticks,fontsize=18)\n",
    "plt.yticks(yticks,fontsize=18)\n",
    "\n",
    "plt.xlim([0.5,len(center_indices)+0.5])\n",
    "plt.ylim([0, np.max(group_number)*1.1])\n",
    "\n",
    "plt.xlabel(r\"$c$\",fontsize=20)\n",
    "plt.ylabel(r\"$M$\",fontsize=20,rotation=0,horizontalalignment='right')\n",
    "plt.tight_layout()\n",
    "plt.savefig('figs_B{0}.svg'.format(n_band))"
   ]
  },
  {
   "cell_type": "code",
   "execution_count": 18,
   "id": "2b018bc7",
   "metadata": {},
   "outputs": [],
   "source": [
    "directory_name = 'B{0}'.format(n_band)\n",
    "\n",
    "if not os.path.exists('./figs/more_cases/{directory_name}'.format(directory_name=directory_name)):\n",
    "    os.mkdir('./figs/more_cases/{directory_name}'.format(directory_name=directory_name))\n",
    "\n",
    "with open('./figs/more_cases/{directory_name}/group_number.txt'.format(directory_name=directory_name),'w') as fileop: \n",
    "    fileop.write(str(group_number))\n",
    "    \n",
    "for i, group in enumerate(groups):\n",
    "    with open('./figs/more_cases/{directory_name}/{i}.txt'.format(directory_name=directory_name, i=i),'w') as fileop: \n",
    "        for model in [models[index] for index in groups[i]]:\n",
    "            fileop.write(str([(op.get_n(), op.get_is_inverse()) for op in model.get_braid_words()])+'\\n')"
   ]
  },
  {
   "cell_type": "code",
   "execution_count": null,
   "id": "21c3789c",
   "metadata": {},
   "outputs": [],
   "source": []
  }
 ],
 "metadata": {
  "kernelspec": {
   "display_name": "Python 3 (ipykernel)",
   "language": "python",
   "name": "python3"
  },
  "language_info": {
   "codemirror_mode": {
    "name": "ipython",
    "version": 3
   },
   "file_extension": ".py",
   "mimetype": "text/x-python",
   "name": "python",
   "nbconvert_exporter": "python",
   "pygments_lexer": "ipython3",
   "version": "3.8.13"
  }
 },
 "nbformat": 4,
 "nbformat_minor": 5
}
