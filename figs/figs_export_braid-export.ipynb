{
 "cells": [
  {
   "cell_type": "code",
   "execution_count": 2,
   "id": "708cf9f4",
   "metadata": {},
   "outputs": [],
   "source": [
    "import sys \n",
    "sys.path.append(\"..\") \n",
    "\n",
    "import numpy as np\n",
    "from braiding_model import BraidOperator, show_braid_words\n",
    "from braiding_model import GeneratorBraid, obtain_model_braid, obtain_model_torus_knot\n",
    "from braiding_model import sigma_z, sigma_x, sigma_y, sigma_0\n",
    "from braiding_model import PerturbationModel\n",
    "\n",
    "from machine_learning import Classifier, Cluster\n",
    "from topology import topology_comparator, similarity_function\n",
    "from functools import partial\n",
    "\n",
    "import matplotlib.pyplot as plt\n",
    "\n",
    "p1 = PerturbationModel()\n",
    "p1.set_parameters(t1=0.1,t2=0.0)\n",
    "\n",
    "p2 = PerturbationModel()\n",
    "p2.set_parameters(t1=-0.1,t2=0.0)\n",
    "\n",
    "p3 = PerturbationModel()\n",
    "p3.set_parameters(t1=0.1,t2=0.1)\n",
    "\n",
    "p4 = PerturbationModel()\n",
    "p4.set_parameters(t1=0.0,t2=-0.1)\n",
    "\n",
    "perturbations = [p1,p2,p3,p4]"
   ]
  },
  {
   "cell_type": "markdown",
   "id": "572a3021",
   "metadata": {},
   "source": [
    "# $\\mathbb{B}_3$"
   ]
  },
  {
   "cell_type": "code",
   "execution_count": 8,
   "id": "b5407f19",
   "metadata": {},
   "outputs": [
    {
     "data": {
      "image/png": "[encoded data removed]",
      "text/plain": [
       "<Figure size 640x480 with 1 Axes>"
      ]
     },
     "metadata": {},
     "output_type": "display_data"
    }
   ],
   "source": [
    "n_band = 3\n",
    "directory_name = 'B{n}'.format(n=n_band)\n",
    "\n",
    "\n",
    "with open('./figs/more_cases/{directory_name}/group_number.txt'.format(directory_name=directory_name),'r') as fileop:\n",
    "    group_number = fileop.readlines()\n",
    "    \n",
    "group_number = eval(group_number[0])\n",
    "\n",
    "fig = plt.figure()\n",
    "xticks = list(range(1,len(group_number)+1,50))\n",
    "yticks = [0, int(np.max(group_number)/2), int(np.max(group_number))]\n",
    "\n",
    "plt.bar(np.arange(len(group_number))+1, group_number)\n",
    "plt.xticks(xticks,fontsize=30)\n",
    "plt.yticks(yticks,fontsize=30)\n",
    "\n",
    "plt.xlim([0.5,len(group_number)+0.5])\n",
    "plt.ylim([0, np.max(group_number)*1.1])\n",
    "\n",
    "plt.xlabel(r\"$c$\",fontsize=30)\n",
    "plt.ylabel(r\"$M$\",fontsize=30,rotation=0,horizontalalignment='right')\n",
    "plt.tight_layout()\n",
    "plt.savefig(\"figs_{0}.svg\".format(directory_name))"
   ]
  },
  {
   "cell_type": "code",
   "execution_count": 13,
   "id": "ea22cd81",
   "metadata": {},
   "outputs": [
    {
     "data": {
      "text/markdown": [
       "$\\sigma_1$ "
      ],
      "text/plain": [
       "<IPython.core.display.Markdown object>"
      ]
     },
     "metadata": {},
     "output_type": "display_data"
    },
    {
     "data": {
      "text/markdown": [
       "$\\sigma^{-1}_1$ $\\sigma^{-1}_1$ $\\sigma_1$ $\\sigma_1$ $\\sigma_1$ "
      ],
      "text/plain": [
       "<IPython.core.display.Markdown object>"
      ]
     },
     "metadata": {},
     "output_type": "display_data"
    },
    {
     "data": {
      "text/markdown": [
       "$\\sigma_2$ $\\sigma^{-1}_2$ $\\sigma_1$ "
      ],
      "text/plain": [
       "<IPython.core.display.Markdown object>"
      ]
     },
     "metadata": {},
     "output_type": "display_data"
    },
    {
     "data": {
      "text/markdown": [
       "$\\sigma_2$ $\\sigma^{-1}_2$ $\\sigma_1$ $\\sigma^{-1}_1$ $\\sigma_1$ "
      ],
      "text/plain": [
       "<IPython.core.display.Markdown object>"
      ]
     },
     "metadata": {},
     "output_type": "display_data"
    },
    {
     "data": {
      "text/markdown": [
       "$\\sigma_1$ $\\sigma_2$ $\\sigma^{-1}_2$ $\\sigma_2$ $\\sigma^{-1}_2$ "
      ],
      "text/plain": [
       "<IPython.core.display.Markdown object>"
      ]
     },
     "metadata": {},
     "output_type": "display_data"
    },
    {
     "data": {
      "text/markdown": [
       "$\\sigma_1$ $\\sigma^{-1}_2$ $\\sigma_1$ $\\sigma^{-1}_1$ $\\sigma_2$ "
      ],
      "text/plain": [
       "<IPython.core.display.Markdown object>"
      ]
     },
     "metadata": {},
     "output_type": "display_data"
    },
    {
     "data": {
      "text/markdown": [
       "$\\sigma_1$ $\\sigma_2$ $\\sigma^{-1}_2$ "
      ],
      "text/plain": [
       "<IPython.core.display.Markdown object>"
      ]
     },
     "metadata": {},
     "output_type": "display_data"
    },
    {
     "data": {
      "text/markdown": [
       "$\\sigma^{-1}_1$ $\\sigma_1$ $\\sigma_1$ $\\sigma^{-1}_2$ $\\sigma_2$ "
      ],
      "text/plain": [
       "<IPython.core.display.Markdown object>"
      ]
     },
     "metadata": {},
     "output_type": "display_data"
    },
    {
     "data": {
      "text/markdown": [
       "$\\sigma_1$ $\\sigma^{-1}_1$ $\\sigma_1$ "
      ],
      "text/plain": [
       "<IPython.core.display.Markdown object>"
      ]
     },
     "metadata": {},
     "output_type": "display_data"
    },
    {
     "data": {
      "text/markdown": [
       "$\\sigma_2$ $\\sigma^{-1}_2$ $\\sigma_1$ $\\sigma^{-1}_2$ $\\sigma_2$ "
      ],
      "text/plain": [
       "<IPython.core.display.Markdown object>"
      ]
     },
     "metadata": {},
     "output_type": "display_data"
    },
    {
     "data": {
      "text/markdown": [
       "$\\sigma_1$ $\\sigma^{-1}_1$ $\\sigma^{-1}_1$ $\\sigma_1$ $\\sigma_1$ "
      ],
      "text/plain": [
       "<IPython.core.display.Markdown object>"
      ]
     },
     "metadata": {},
     "output_type": "display_data"
    },
    {
     "data": {
      "text/markdown": [
       "$\\sigma^{-1}_2$ $\\sigma_2$ $\\sigma_1$ "
      ],
      "text/plain": [
       "<IPython.core.display.Markdown object>"
      ]
     },
     "metadata": {},
     "output_type": "display_data"
    },
    {
     "data": {
      "text/markdown": [
       "$\\sigma_1$ $\\sigma_2$ $\\sigma^{-1}_2$ $\\sigma^{-1}_2$ $\\sigma_2$ "
      ],
      "text/plain": [
       "<IPython.core.display.Markdown object>"
      ]
     },
     "metadata": {},
     "output_type": "display_data"
    },
    {
     "data": {
      "text/markdown": [
       "$\\sigma^{-1}_1$ $\\sigma_1$ $\\sigma_1$ "
      ],
      "text/plain": [
       "<IPython.core.display.Markdown object>"
      ]
     },
     "metadata": {},
     "output_type": "display_data"
    },
    {
     "data": {
      "text/markdown": [
       "$\\sigma_1$ $\\sigma_1$ $\\sigma^{-1}_1$ "
      ],
      "text/plain": [
       "<IPython.core.display.Markdown object>"
      ]
     },
     "metadata": {},
     "output_type": "display_data"
    },
    {
     "data": {
      "text/markdown": [
       "$\\sigma^{-1}_2$ $\\sigma_1$ $\\sigma_2$ $\\sigma_1$ $\\sigma^{-1}_2$ "
      ],
      "text/plain": [
       "<IPython.core.display.Markdown object>"
      ]
     },
     "metadata": {},
     "output_type": "display_data"
    },
    {
     "data": {
      "text/markdown": [
       "$\\sigma_2$ $\\sigma_2$ $\\sigma^{-1}_2$ $\\sigma^{-1}_2$ $\\sigma_1$ "
      ],
      "text/plain": [
       "<IPython.core.display.Markdown object>"
      ]
     },
     "metadata": {},
     "output_type": "display_data"
    },
    {
     "data": {
      "text/markdown": [
       "$\\sigma_1$ $\\sigma^{-1}_2$ $\\sigma_2$ $\\sigma^{-1}_1$ $\\sigma_1$ "
      ],
      "text/plain": [
       "<IPython.core.display.Markdown object>"
      ]
     },
     "metadata": {},
     "output_type": "display_data"
    },
    {
     "data": {
      "text/markdown": [
       "$\\sigma_1$ $\\sigma_1$ $\\sigma^{-1}_1$ $\\sigma^{-1}_2$ $\\sigma_2$ "
      ],
      "text/plain": [
       "<IPython.core.display.Markdown object>"
      ]
     },
     "metadata": {},
     "output_type": "display_data"
    },
    {
     "data": {
      "text/markdown": [
       "$\\sigma_1$ $\\sigma^{-1}_2$ $\\sigma_2$ "
      ],
      "text/plain": [
       "<IPython.core.display.Markdown object>"
      ]
     },
     "metadata": {},
     "output_type": "display_data"
    }
   ],
   "source": [
    "index = 1\n",
    "with open('./figs/more_cases/{directory_name}/{i}.txt'.format(directory_name=directory_name, i=index),'r') as fileop:\n",
    "    data = fileop.readlines()\n",
    "    \n",
    "models = list()\n",
    "for i,_op_str in enumerate(data):\n",
    "    op = eval(_op_str)\n",
    "    _braid_operators = [BraidOperator(x[0],x[1]) for x in op]\n",
    "    _model = obtain_model_braid(n_band, _braid_operators)\n",
    "    \n",
    "    flag = False\n",
    "    for modelc in models:\n",
    "        if _model == modelc:\n",
    "            flag = True\n",
    "            break\n",
    "            \n",
    "    if not flag:\n",
    "        models.append(_model)\n",
    "        \n",
    "for i, _model in enumerate(models):\n",
    "    show_braid_words(_model.get_braid_words())\n",
    "    _model.save_band('./figs/more_cases/figs/{directory_name}_{i}.txt'.format(directory_name=directory_name, i=i))\n",
    "      \n",
    "    #_model.save_band('./fig2/Braids/group_{directory_name}_{index}_{i}.txt'.format(directory_name=directory_name, index=index, i=i))"
   ]
  },
  {
   "cell_type": "code",
   "execution_count": null,
   "id": "901d9d6a",
   "metadata": {},
   "outputs": [],
   "source": []
  },
  {
   "cell_type": "markdown",
   "id": "92423351",
   "metadata": {},
   "source": [
    "# $\\mathbb{B}_4$"
   ]
  },
  {
   "cell_type": "code",
   "execution_count": 18,
   "id": "41b864b3",
   "metadata": {},
   "outputs": [
    {
     "data": {
      "image/png": "[encoded data removed]",
      "text/plain": [
       "<Figure size 640x480 with 1 Axes>"
      ]
     },
     "metadata": {},
     "output_type": "display_data"
    }
   ],
   "source": [
    "n_band = 4\n",
    "directory_name = 'B{n}'.format(n=n_band)\n",
    "\n",
    "\n",
    "with open('./figs/more_cases/{directory_name}/group_number.txt'.format(directory_name=directory_name),'r') as fileop:\n",
    "    group_number = fileop.readlines()\n",
    "    \n",
    "group_number = eval(group_number[0])\n",
    "\n",
    "fig = plt.figure()\n",
    "xticks = list(range(1,len(group_number)+1,100))\n",
    "yticks = [0, int(np.max(group_number)/2), int(np.max(group_number))]\n",
    "\n",
    "plt.bar(np.arange(len(group_number))+1, group_number)\n",
    "plt.xticks(xticks,fontsize=30)\n",
    "plt.yticks(yticks,fontsize=30)\n",
    "\n",
    "plt.xlim([0.5,len(group_number)+0.5])\n",
    "plt.ylim([0, np.max(group_number)*1.1])\n",
    "\n",
    "plt.xlabel(r\"$c$\",fontsize=30)\n",
    "plt.ylabel(r\"$M$\",fontsize=30,rotation=0,horizontalalignment='right')\n",
    "plt.tight_layout()\n",
    "plt.savefig(\"figs_{0}.svg\".format(directory_name))"
   ]
  },
  {
   "cell_type": "code",
   "execution_count": 19,
   "id": "53dd33f5",
   "metadata": {},
   "outputs": [
    {
     "data": {
      "text/markdown": [
       "$\\sigma_1$ "
      ],
      "text/plain": [
       "<IPython.core.display.Markdown object>"
      ]
     },
     "metadata": {},
     "output_type": "display_data"
    },
    {
     "data": {
      "text/markdown": [
       "$\\sigma^{-1}_2$ $\\sigma_2$ $\\sigma_1$ "
      ],
      "text/plain": [
       "<IPython.core.display.Markdown object>"
      ]
     },
     "metadata": {},
     "output_type": "display_data"
    },
    {
     "data": {
      "text/markdown": [
       "$\\sigma_1$ $\\sigma^{-1}_3$ $\\sigma_3$ "
      ],
      "text/plain": [
       "<IPython.core.display.Markdown object>"
      ]
     },
     "metadata": {},
     "output_type": "display_data"
    },
    {
     "data": {
      "text/markdown": [
       "$\\sigma^{-1}_3$ $\\sigma_3$ $\\sigma_1$ "
      ],
      "text/plain": [
       "<IPython.core.display.Markdown object>"
      ]
     },
     "metadata": {},
     "output_type": "display_data"
    },
    {
     "data": {
      "text/markdown": [
       "$\\sigma^{-1}_3$ $\\sigma_1$ $\\sigma_3$ "
      ],
      "text/plain": [
       "<IPython.core.display.Markdown object>"
      ]
     },
     "metadata": {},
     "output_type": "display_data"
    },
    {
     "data": {
      "text/markdown": [
       "$\\sigma_1$ $\\sigma^{-1}_2$ $\\sigma_2$ $\\sigma_1$ $\\sigma^{-1}_1$ "
      ],
      "text/plain": [
       "<IPython.core.display.Markdown object>"
      ]
     },
     "metadata": {},
     "output_type": "display_data"
    },
    {
     "data": {
      "text/markdown": [
       "$\\sigma_2$ $\\sigma_3$ $\\sigma^{-1}_3$ $\\sigma^{-1}_2$ $\\sigma_1$ "
      ],
      "text/plain": [
       "<IPython.core.display.Markdown object>"
      ]
     },
     "metadata": {},
     "output_type": "display_data"
    },
    {
     "data": {
      "text/markdown": [
       "$\\sigma_2$ $\\sigma^{-1}_2$ $\\sigma_1$ "
      ],
      "text/plain": [
       "<IPython.core.display.Markdown object>"
      ]
     },
     "metadata": {},
     "output_type": "display_data"
    },
    {
     "data": {
      "text/markdown": [
       "$\\sigma_1$ $\\sigma_3$ $\\sigma^{-1}_3$ "
      ],
      "text/plain": [
       "<IPython.core.display.Markdown object>"
      ]
     },
     "metadata": {},
     "output_type": "display_data"
    },
    {
     "data": {
      "text/markdown": [
       "$\\sigma_1$ $\\sigma_1$ $\\sigma^{-1}_1$ "
      ],
      "text/plain": [
       "<IPython.core.display.Markdown object>"
      ]
     },
     "metadata": {},
     "output_type": "display_data"
    },
    {
     "data": {
      "text/markdown": [
       "$\\sigma_1$ $\\sigma_2$ $\\sigma^{-1}_2$ "
      ],
      "text/plain": [
       "<IPython.core.display.Markdown object>"
      ]
     },
     "metadata": {},
     "output_type": "display_data"
    }
   ],
   "source": [
    "index = 1\n",
    "with open('./figs/more_cases/{directory_name}/{i}.txt'.format(directory_name=directory_name, i=index),'r') as fileop:\n",
    "    data = fileop.readlines()\n",
    "    \n",
    "models = list()\n",
    "for i,_op_str in enumerate(data):\n",
    "    op = eval(_op_str)\n",
    "    _braid_operators = [BraidOperator(x[0],x[1]) for x in op]\n",
    "    _model = obtain_model_braid(n_band, _braid_operators)\n",
    "    \n",
    "    flag = False\n",
    "    for modelc in models:\n",
    "        if _model == modelc:\n",
    "            flag = True\n",
    "            break\n",
    "            \n",
    "    if not flag:\n",
    "        models.append(_model)\n",
    "        \n",
    "for i, _model in enumerate(models):\n",
    "    show_braid_words(_model.get_braid_words())\n",
    "    _model.save_band('./figs/more_cases/figs/{directory_name}_{i}.txt'.format(directory_name=directory_name, i=i))"
   ]
  },
  {
   "cell_type": "markdown",
   "id": "644d9863",
   "metadata": {},
   "source": [
    "# $\\mathbb{B}_5$"
   ]
  },
  {
   "cell_type": "code",
   "execution_count": 21,
   "id": "bf731323",
   "metadata": {},
   "outputs": [
    {
     "data": {
      "image/png": "[encoded data removed]",
      "text/plain": [
       "<Figure size 640x480 with 1 Axes>"
      ]
     },
     "metadata": {},
     "output_type": "display_data"
    }
   ],
   "source": [
    "n_band = 5\n",
    "directory_name = 'B{n}'.format(n=n_band)\n",
    "\n",
    "\n",
    "with open('./figs/more_cases/{directory_name}/group_number.txt'.format(directory_name=directory_name),'r') as fileop:\n",
    "    group_number = fileop.readlines()\n",
    "    \n",
    "group_number = eval(group_number[0])\n",
    "\n",
    "fig = plt.figure()\n",
    "xticks = list(range(1,len(group_number)+1,100))\n",
    "yticks = [0, int(np.max(group_number)/2), int(np.max(group_number))]\n",
    "\n",
    "plt.bar(np.arange(len(group_number))+1, group_number)\n",
    "plt.xticks(xticks,fontsize=30)\n",
    "plt.yticks(yticks,fontsize=30)\n",
    "\n",
    "plt.xlim([0.5,len(group_number)+0.5])\n",
    "plt.ylim([0, np.max(group_number)*1.1])\n",
    "\n",
    "plt.xlabel(r\"$c$\",fontsize=30)\n",
    "plt.ylabel(r\"$M$\",fontsize=30,rotation=0,horizontalalignment='right')\n",
    "plt.tight_layout()\n",
    "plt.savefig(\"figs_{0}.svg\".format(directory_name))"
   ]
  },
  {
   "cell_type": "code",
   "execution_count": 22,
   "id": "396eb30e",
   "metadata": {},
   "outputs": [
    {
     "data": {
      "text/markdown": [
       "$\\sigma^{-1}_3$ $\\sigma_3$ $\\sigma^{-1}_1$ "
      ],
      "text/plain": [
       "<IPython.core.display.Markdown object>"
      ]
     },
     "metadata": {},
     "output_type": "display_data"
    },
    {
     "data": {
      "text/markdown": [
       "$\\sigma^{-1}_1$ "
      ],
      "text/plain": [
       "<IPython.core.display.Markdown object>"
      ]
     },
     "metadata": {},
     "output_type": "display_data"
    },
    {
     "data": {
      "text/markdown": [
       "$\\sigma^{-1}_3$ $\\sigma^{-1}_1$ $\\sigma^{-1}_1$ $\\sigma_3$ $\\sigma_1$ "
      ],
      "text/plain": [
       "<IPython.core.display.Markdown object>"
      ]
     },
     "metadata": {},
     "output_type": "display_data"
    },
    {
     "data": {
      "text/markdown": [
       "$\\sigma^{-1}_1$ $\\sigma_2$ $\\sigma^{-1}_2$ "
      ],
      "text/plain": [
       "<IPython.core.display.Markdown object>"
      ]
     },
     "metadata": {},
     "output_type": "display_data"
    },
    {
     "data": {
      "text/markdown": [
       "$\\sigma^{-1}_1$ $\\sigma_4$ $\\sigma^{-1}_4$ "
      ],
      "text/plain": [
       "<IPython.core.display.Markdown object>"
      ]
     },
     "metadata": {},
     "output_type": "display_data"
    },
    {
     "data": {
      "text/markdown": [
       "$\\sigma_2$ $\\sigma^{-1}_2$ $\\sigma_2$ $\\sigma^{-1}_2$ $\\sigma^{-1}_1$ "
      ],
      "text/plain": [
       "<IPython.core.display.Markdown object>"
      ]
     },
     "metadata": {},
     "output_type": "display_data"
    },
    {
     "data": {
      "text/markdown": [
       "$\\sigma_3$ $\\sigma^{-1}_3$ $\\sigma^{-1}_1$ "
      ],
      "text/plain": [
       "<IPython.core.display.Markdown object>"
      ]
     },
     "metadata": {},
     "output_type": "display_data"
    },
    {
     "data": {
      "text/markdown": [
       "$\\sigma_1$ $\\sigma^{-1}_1$ $\\sigma^{-1}_1$ "
      ],
      "text/plain": [
       "<IPython.core.display.Markdown object>"
      ]
     },
     "metadata": {},
     "output_type": "display_data"
    },
    {
     "data": {
      "text/markdown": [
       "$\\sigma^{-1}_1$ $\\sigma^{-1}_2$ $\\sigma_2$ "
      ],
      "text/plain": [
       "<IPython.core.display.Markdown object>"
      ]
     },
     "metadata": {},
     "output_type": "display_data"
    },
    {
     "data": {
      "text/markdown": [
       "$\\sigma^{-1}_4$ $\\sigma_4$ $\\sigma^{-1}_1$ "
      ],
      "text/plain": [
       "<IPython.core.display.Markdown object>"
      ]
     },
     "metadata": {},
     "output_type": "display_data"
    },
    {
     "data": {
      "text/markdown": [
       "$\\sigma_1$ $\\sigma^{-1}_1$ $\\sigma^{-1}_3$ $\\sigma^{-1}_1$ $\\sigma_3$ "
      ],
      "text/plain": [
       "<IPython.core.display.Markdown object>"
      ]
     },
     "metadata": {},
     "output_type": "display_data"
    },
    {
     "data": {
      "text/markdown": [
       "$\\sigma_4$ $\\sigma^{-1}_4$ $\\sigma^{-1}_1$ "
      ],
      "text/plain": [
       "<IPython.core.display.Markdown object>"
      ]
     },
     "metadata": {},
     "output_type": "display_data"
    }
   ],
   "source": [
    "index = 1\n",
    "with open('./figs/more_cases/{directory_name}/{i}.txt'.format(directory_name=directory_name, i=index),'r') as fileop:\n",
    "    data = fileop.readlines()\n",
    "    \n",
    "models = list()\n",
    "for i,_op_str in enumerate(data):\n",
    "    op = eval(_op_str)\n",
    "    _braid_operators = [BraidOperator(x[0],x[1]) for x in op]\n",
    "    _model = obtain_model_braid(n_band, _braid_operators)\n",
    "    \n",
    "    flag = False\n",
    "    for modelc in models:\n",
    "        if _model == modelc:\n",
    "            flag = True\n",
    "            break\n",
    "            \n",
    "    if not flag:\n",
    "        models.append(_model)\n",
    "        \n",
    "for i, _model in enumerate(models):\n",
    "    show_braid_words(_model.get_braid_words())\n",
    "    _model.save_band('./figs/more_cases/figs/{directory_name}_{i}.txt'.format(directory_name=directory_name, i=i))"
   ]
  },
  {
   "cell_type": "code",
   "execution_count": null,
   "id": "89be2fe9",
   "metadata": {},
   "outputs": [],
   "source": []
  }
 ],
 "metadata": {
  "kernelspec": {
   "display_name": "Python 3 (ipykernel)",
   "language": "python",
   "name": "python3"
  },
  "language_info": {
   "codemirror_mode": {
    "name": "ipython",
    "version": 3
   },
   "file_extension": ".py",
   "mimetype": "text/x-python",
   "name": "python",
   "nbconvert_exporter": "python",
   "pygments_lexer": "ipython3",
   "version": "3.8.13"
  }
 },
 "nbformat": 4,
 "nbformat_minor": 5
}
