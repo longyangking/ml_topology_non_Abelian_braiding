{
 "cells": [
  {
   "cell_type": "code",
   "execution_count": 4,
   "id": "74eb2d98",
   "metadata": {},
   "outputs": [
    {
     "data": {
      "text/plain": [
       "{'divide': 'ignore', 'over': 'ignore', 'under': 'ignore', 'invalid': 'ignore'}"
      ]
     },
     "execution_count": 4,
     "metadata": {},
     "output_type": "execute_result"
    }
   ],
   "source": [
    "import sys \n",
    "sys.path.append(\"..\") \n",
    "import os\n",
    "\n",
    "import numpy as np\n",
    "from braiding_model import BraidOperator, show_braid_words\n",
    "from braiding_model import GeneratorBraid, obtain_model_braid, obtain_model_torus_knot\n",
    "from braiding_model import sigma_z, sigma_x, sigma_y, sigma_0\n",
    "from braiding_model import PerturbationModel\n",
    "\n",
    "from machine_learning import Classifier, Cluster\n",
    "from topology import topology_comparator, similarity_function\n",
    "from functools import partial\n",
    "\n",
    "import matplotlib.pyplot as plt\n",
    "import itertools\n",
    "\n",
    "p1 = PerturbationModel()\n",
    "p1.set_parameters(t1=0.1,t2=0.0)\n",
    "\n",
    "p2 = PerturbationModel()\n",
    "p2.set_parameters(t1=-0.1,t2=0.0)\n",
    "\n",
    "p3 = PerturbationModel()\n",
    "p3.set_parameters(t1=0.1,t2=0.1)\n",
    "\n",
    "p4 = PerturbationModel()\n",
    "p4.set_parameters(t1=0.0,t2=-0.1)\n",
    "\n",
    "perturbations = [p1,p2,p3,p4]\n",
    "\n",
    "np.seterr(all=\"ignore\") # ignore some numerical errors"
   ]
  },
  {
   "cell_type": "markdown",
   "id": "7f8139b0",
   "metadata": {},
   "source": [
    "# Artin's topological equivalent conditions\n",
    "\n",
    "Generate structures that can test the Artin's topological equivalent conditions"
   ]
  },
  {
   "cell_type": "code",
   "execution_count": 26,
   "id": "57a9b795",
   "metadata": {},
   "outputs": [
    {
     "data": {
      "text/markdown": [
       "$\\sigma_1$ $\\sigma^{-1}_4$ $\\sigma_2$ $\\sigma_3$ $\\sigma_1$ "
      ],
      "text/plain": [
       "<IPython.core.display.Markdown object>"
      ]
     },
     "metadata": {},
     "output_type": "display_data"
    }
   ],
   "source": [
    "n_band = 5\n",
    "braid_operator_list = [\n",
    "    BraidOperator(1), BraidOperator(3),\n",
    "    BraidOperator(2), BraidOperator(-4),\n",
    "    BraidOperator(1)\n",
    "]\n",
    "model0 = obtain_model_braid(n_band=n_band, braid_operators=braid_operator_list)\n",
    "\n",
    "show_braid_words(model0.get_braid_words())\n",
    "\n",
    "model0.save_band('./figs/Artin/model0_band.txt')"
   ]
  },
  {
   "cell_type": "markdown",
   "id": "cd20a3da",
   "metadata": {},
   "source": [
    "# Test 1"
   ]
  },
  {
   "cell_type": "code",
   "execution_count": 8,
   "id": "44417ce7",
   "metadata": {},
   "outputs": [
    {
     "name": "stdout",
     "output_type": "stream",
     "text": [
      "The number of models:  120\n"
     ]
    }
   ],
   "source": [
    "n_operators = len(braid_operator_list)\n",
    "op_combs = list(itertools.permutations(range(n_operators), n_operators))\n",
    "models = list()\n",
    "\n",
    "for op_comb in op_combs:\n",
    "    braid_operators = [braid_operator_list[index] for index in op_comb]\n",
    "    models.append(obtain_model_braid(n_band=n_band, braid_operators=braid_operators))\n",
    "    \n",
    "print(\"The number of models: \",len(models))"
   ]
  },
  {
   "cell_type": "code",
   "execution_count": 14,
   "id": "9af0be26",
   "metadata": {},
   "outputs": [
    {
     "name": "stdout",
     "output_type": "stream",
     "text": [
      "The group number:  [14, 106]\n"
     ]
    }
   ],
   "source": [
    "fast_mode = True\n",
    "func = partial(similarity_function, perturbations=perturbations, fast_mode=fast_mode)\n",
    "\n",
    "groups = [[], []]\n",
    "for model in models:\n",
    "    if func(model, model0):\n",
    "        groups[0].append(model)\n",
    "    else:\n",
    "        groups[1].append(model)\n",
    "\n",
    "group_number = list(map(len, groups))\n",
    "print(\"The group number: \",group_number)"
   ]
  },
  {
   "cell_type": "code",
   "execution_count": 25,
   "id": "437f4938",
   "metadata": {},
   "outputs": [
    {
     "data": {
      "image/png": "[encoded data removed]",
      "text/plain": [
       "<Figure size 640x480 with 1 Axes>"
      ]
     },
     "metadata": {},
     "output_type": "display_data"
    }
   ],
   "source": [
    "fig = plt.figure()\n",
    "xticks = ['Identical', 'Distinct']\n",
    "yticks = [0, int(np.max(group_number)/2), int(np.max(group_number))]\n",
    "\n",
    "plt.bar(np.arange(len(group_number))+1, group_number)\n",
    "plt.xticks([1,2], xticks,fontsize=18)\n",
    "plt.yticks(yticks,fontsize=18)\n",
    "\n",
    "plt.xlim([0.5,2+0.5])\n",
    "plt.ylim([0, np.max(group_number)*1.1])\n",
    "\n",
    "plt.xlabel(r\"Phase\",fontsize=20)\n",
    "#plt.ylabel(r\"No. Samples\",fontsize=20,rotation=90,horizontalalignment='right')\n",
    "plt.ylabel(r\"No. Samples\",fontsize=20,rotation=90)\n",
    "plt.tight_layout()\n",
    "#plt.savefig('figs_Artin_test_1.svg'.format(n_band))"
   ]
  },
  {
   "cell_type": "code",
   "execution_count": 24,
   "id": "fd033855",
   "metadata": {},
   "outputs": [],
   "source": [
    "directory_name = 'Test 1'\n",
    "if not os.path.exists('./figs/Artin/{directory_name}'.format(directory_name=directory_name)):\n",
    "    os.mkdir('./figs/Artin/{directory_name}'.format(directory_name=directory_name))\n",
    "\n",
    "with open('./figs/Artin/{directory_name}/group_number.txt'.format(directory_name=directory_name),'w') as fileop: \n",
    "    fileop.write(str(group_number))\n",
    "    \n",
    "for i, group in enumerate(groups):\n",
    "    with open('./figs/Artin/{directory_name}/{i}.txt'.format(directory_name=directory_name, i=i),'w') as fileop: \n",
    "        for model in groups[i]:\n",
    "            fileop.write(str([(op.get_n(), op.get_is_inverse()) for op in model.get_braid_words()])+'\\n')"
   ]
  },
  {
   "cell_type": "markdown",
   "id": "8043b8a4",
   "metadata": {},
   "source": [
    "# Test 2"
   ]
  },
  {
   "cell_type": "code",
   "execution_count": 39,
   "id": "245545e8",
   "metadata": {},
   "outputs": [
    {
     "name": "stdout",
     "output_type": "stream",
     "text": [
      "The number of models:  1000\n"
     ]
    }
   ],
   "source": [
    "allowed_braid_operator_list = [\n",
    "    BraidOperator(1), BraidOperator(-1),\n",
    "    BraidOperator(2), BraidOperator(-2),\n",
    "    BraidOperator(3), BraidOperator(-3),\n",
    "    BraidOperator(4), BraidOperator(-4),\n",
    "]\n",
    "models = list()\n",
    "n_sample = 1000\n",
    "n_max_length = 5\n",
    "n_allowed_braid_operator_list = len(allowed_braid_operator_list)\n",
    "\n",
    "for _ in range(n_sample):\n",
    "    _length = np.random.randint(1, n_allowed_braid_operator_list+1)\n",
    "    indexs = np.random.choice(range(n_allowed_braid_operator_list), _length)\n",
    "    braid_operators = braid_operator_list + [allowed_braid_operator_list[index] for index in indexs]\n",
    "    #braid_operators = [braid_operator_list[index] for index in op_comb]\n",
    "    models.append(obtain_model_braid(n_band=n_band, braid_operators=braid_operators))\n",
    "    \n",
    "# for op_comb in op_combs:\n",
    "#     braid_operators = [braid_operator_list[index] for index in op_comb]\n",
    "#     models.append(obtain_model_braid(n_band=n_band, braid_operators=braid_operators))\n",
    "    \n",
    "print(\"The number of models: \",len(models))"
   ]
  },
  {
   "cell_type": "code",
   "execution_count": 40,
   "id": "f7a45bc7",
   "metadata": {},
   "outputs": [
    {
     "name": "stdout",
     "output_type": "stream",
     "text": [
      "The group number:  [18, 982]\n"
     ]
    }
   ],
   "source": [
    "fast_mode = True\n",
    "func = partial(similarity_function, perturbations=perturbations, fast_mode=fast_mode)\n",
    "\n",
    "groups = [[], []]\n",
    "for model in models:\n",
    "    if func(model, model0):\n",
    "        groups[0].append(model)\n",
    "    else:\n",
    "        groups[1].append(model)\n",
    "\n",
    "group_number = list(map(len, groups))\n",
    "print(\"The group number: \",group_number)"
   ]
  },
  {
   "cell_type": "code",
   "execution_count": 65,
   "id": "38e9c285",
   "metadata": {},
   "outputs": [
    {
     "data": {
      "image/png": "[encoded data removed]",
      "text/plain": [
       "<Figure size 640x480 with 1 Axes>"
      ]
     },
     "metadata": {},
     "output_type": "display_data"
    }
   ],
   "source": [
    "fig = plt.figure()\n",
    "xticks = ['Identical', 'Distinct']\n",
    "yticks = [0, int(np.max(group_number)/2), int(np.max(group_number))]\n",
    "\n",
    "plt.bar(np.arange(len(group_number))+1, group_number)\n",
    "\n",
    "for i, v in enumerate(group_number):\n",
    "    plt.text(i+0.9, v, str(v), fontsize=20)\n",
    "     \n",
    "plt.xticks([1,2], xticks,fontsize=18)\n",
    "plt.yticks(yticks,fontsize=18)\n",
    "\n",
    "plt.xlim([0.5,2+0.5])\n",
    "plt.ylim([0, np.max(group_number)*1.1])\n",
    "\n",
    "plt.xlabel(r\"Phase\",fontsize=20)\n",
    "#plt.ylabel(r\"No. Samples\",fontsize=20,rotation=90,horizontalalignment='right')\n",
    "plt.ylabel(r\"No. Samples\",fontsize=20,rotation=90)\n",
    "plt.tight_layout()\n",
    "#plt.savefig('figs_Artin_test_1.svg'.format(n_band))"
   ]
  },
  {
   "cell_type": "code",
   "execution_count": 66,
   "id": "5e643d1b",
   "metadata": {},
   "outputs": [],
   "source": [
    "directory_name = 'Test 2'\n",
    "if not os.path.exists('./figs/Artin/{directory_name}'.format(directory_name=directory_name)):\n",
    "    os.mkdir('./figs/Artin/{directory_name}'.format(directory_name=directory_name))\n",
    "\n",
    "with open('./figs/Artin/{directory_name}/group_number.txt'.format(directory_name=directory_name),'w') as fileop: \n",
    "    fileop.write(str(group_number))\n",
    "    \n",
    "for i, group in enumerate(groups):\n",
    "    with open('./figs/Artin/{directory_name}/{i}.txt'.format(directory_name=directory_name, i=i),'w') as fileop: \n",
    "        for model in groups[i]:\n",
    "            fileop.write(str([(op.get_n(), op.get_is_inverse()) for op in model.get_braid_words()])+'\\n')"
   ]
  },
  {
   "cell_type": "markdown",
   "id": "ccf4c6ea",
   "metadata": {},
   "source": [
    "# Test 3"
   ]
  },
  {
   "cell_type": "code",
   "execution_count": 69,
   "id": "81cb7eb8",
   "metadata": {},
   "outputs": [
    {
     "name": "stdout",
     "output_type": "stream",
     "text": [
      "The number of models:  6000\n"
     ]
    }
   ],
   "source": [
    "n_operators = len(braid_operator_list)\n",
    "op_combs = list(itertools.permutations(range(n_operators), n_operators))\n",
    "\n",
    "allowed_braid_operator_list = [\n",
    "    BraidOperator(1), BraidOperator(-1),\n",
    "    BraidOperator(2), BraidOperator(-2),\n",
    "    BraidOperator(3), BraidOperator(-3),\n",
    "    BraidOperator(4), BraidOperator(-4),\n",
    "]\n",
    "models = list()\n",
    "n_sample = 50\n",
    "n_max_length = 5\n",
    "n_allowed_braid_operator_list = len(allowed_braid_operator_list)\n",
    "\n",
    "for op_comb in op_combs:\n",
    "    braid_operators0 = [braid_operator_list[index] for index in op_comb]\n",
    "    #models.append(obtain_model_braid(n_band=n_band, braid_operators=braid_operators))\n",
    "    for _ in range(n_sample):\n",
    "        _length = np.random.randint(1, n_allowed_braid_operator_list+1)\n",
    "        indexs = np.random.choice(range(n_allowed_braid_operator_list), _length)\n",
    "        braid_operators = braid_operators0 + [allowed_braid_operator_list[index] for index in indexs]\n",
    "        #braid_operators = [braid_operator_list[index] for index in op_comb]\n",
    "        models.append(obtain_model_braid(n_band=n_band, braid_operators=braid_operators))\n",
    "    \n",
    "# for op_comb in op_combs:\n",
    "#     braid_operators = [braid_operator_list[index] for index in op_comb]\n",
    "#     models.append(obtain_model_braid(n_band=n_band, braid_operators=braid_operators))\n",
    "    \n",
    "print(\"The number of models: \",len(models))"
   ]
  },
  {
   "cell_type": "code",
   "execution_count": 70,
   "id": "478e074c",
   "metadata": {},
   "outputs": [
    {
     "name": "stdout",
     "output_type": "stream",
     "text": [
      "The group number:  [21, 5979]\n"
     ]
    }
   ],
   "source": [
    "fast_mode = True\n",
    "func = partial(similarity_function, perturbations=perturbations, fast_mode=fast_mode)\n",
    "\n",
    "groups = [[], []]\n",
    "for model in models:\n",
    "    if func(model, model0):\n",
    "        groups[0].append(model)\n",
    "    else:\n",
    "        groups[1].append(model)\n",
    "\n",
    "group_number = list(map(len, groups))\n",
    "print(\"The group number: \",group_number)"
   ]
  },
  {
   "cell_type": "code",
   "execution_count": 72,
   "id": "8f4dadaf",
   "metadata": {},
   "outputs": [
    {
     "data": {
      "image/png": "[encoded data removed]",
      "text/plain": [
       "<Figure size 640x480 with 1 Axes>"
      ]
     },
     "metadata": {},
     "output_type": "display_data"
    }
   ],
   "source": [
    "fig = plt.figure()\n",
    "xticks = ['Identical', 'Distinct']\n",
    "yticks = [0, int(np.max(group_number)/2), int(np.max(group_number))]\n",
    "\n",
    "plt.bar(np.arange(len(group_number))+1, group_number)\n",
    "\n",
    "for i, v in enumerate(group_number):\n",
    "    plt.text(i+0.95, v, str(v), fontsize=20)\n",
    "     \n",
    "plt.xticks([1,2], xticks,fontsize=18)\n",
    "plt.yticks(yticks,fontsize=18)\n",
    "\n",
    "plt.xlim([0.5,2+0.5])\n",
    "plt.ylim([0, np.max(group_number)*1.1])\n",
    "\n",
    "plt.xlabel(r\"Phase\",fontsize=20)\n",
    "#plt.ylabel(r\"No. Samples\",fontsize=20,rotation=90,horizontalalignment='right')\n",
    "plt.ylabel(r\"No. Samples\",fontsize=20,rotation=90)\n",
    "plt.tight_layout()\n",
    "#plt.savefig('figs_Artin_test_1.svg'.format(n_band))"
   ]
  },
  {
   "cell_type": "code",
   "execution_count": 73,
   "id": "3a650584",
   "metadata": {},
   "outputs": [],
   "source": [
    "directory_name = 'Test 3'\n",
    "if not os.path.exists('./figs/Artin/{directory_name}'.format(directory_name=directory_name)):\n",
    "    os.mkdir('./figs/Artin/{directory_name}'.format(directory_name=directory_name))\n",
    "\n",
    "with open('./figs/Artin/{directory_name}/group_number.txt'.format(directory_name=directory_name),'w') as fileop: \n",
    "    fileop.write(str(group_number))\n",
    "    \n",
    "for i, group in enumerate(groups):\n",
    "    with open('./figs/Artin/{directory_name}/{i}.txt'.format(directory_name=directory_name, i=i),'w') as fileop: \n",
    "        for model in groups[i]:\n",
    "            fileop.write(str([(op.get_n(), op.get_is_inverse()) for op in model.get_braid_words()])+'\\n')"
   ]
  },
  {
   "cell_type": "code",
   "execution_count": null,
   "id": "4ce267aa",
   "metadata": {},
   "outputs": [],
   "source": []
  }
 ],
 "metadata": {
  "kernelspec": {
   "display_name": "Python 3 (ipykernel)",
   "language": "python",
   "name": "python3"
  },
  "language_info": {
   "codemirror_mode": {
    "name": "ipython",
    "version": 3
   },
   "file_extension": ".py",
   "mimetype": "text/x-python",
   "name": "python",
   "nbconvert_exporter": "python",
   "pygments_lexer": "ipython3",
   "version": "3.8.13"
  }
 },
 "nbformat": 4,
 "nbformat_minor": 5
}
