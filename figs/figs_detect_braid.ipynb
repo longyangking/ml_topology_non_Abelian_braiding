{
 "cells": [
  {
   "cell_type": "code",
   "execution_count": 1,
   "id": "2c8a9848",
   "metadata": {},
   "outputs": [
    {
     "data": {
      "text/plain": [
       "{'divide': 'warn', 'over': 'warn', 'under': 'ignore', 'invalid': 'warn'}"
      ]
     },
     "execution_count": 1,
     "metadata": {},
     "output_type": "execute_result"
    }
   ],
   "source": [
    "import sys \n",
    "sys.path.append(\"..\") \n",
    "\n",
    "import numpy as np\n",
    "import numpy.linalg as LA\n",
    "from braiding_model import BraidOperator, show_braid_words\n",
    "from braiding_model import GeneratorBraid, obtain_model_braid, obtain_model_torus_knot\n",
    "from braiding_model import sigma_z, sigma_x, sigma_y, sigma_0\n",
    "from braiding_model import PerturbationModel\n",
    "from braiding_model import obtain_non_Hermitian_Hamiltonian, obtain_non_Hermitian_model\n",
    "\n",
    "from machine_learning import Classifier, Cluster\n",
    "from topology import topology_comparator, similarity_function\n",
    "from functools import partial\n",
    "\n",
    "import matplotlib.pyplot as plt\n",
    "\n",
    "p1 = PerturbationModel()\n",
    "p1.set_parameters(t1=0.1,t2=0.0)\n",
    "\n",
    "p2 = PerturbationModel()\n",
    "p2.set_parameters(t1=-0.1,t2=0.0)\n",
    "\n",
    "p3 = PerturbationModel()\n",
    "p3.set_parameters(t1=0.1,t2=0.1)\n",
    "\n",
    "p4 = PerturbationModel()\n",
    "p4.set_parameters(t1=0.0,t2=-0.1)\n",
    "\n",
    "perturbations = [p1,p2,p3,p4]\n",
    "\n",
    "np.seterr(all=\"ignore\") # ignore some numerical errors"
   ]
  },
  {
   "cell_type": "code",
   "execution_count": 2,
   "id": "ae106a3e",
   "metadata": {},
   "outputs": [
    {
     "data": {
      "text/plain": [
       "array([[ 0. ,  0. , -0.5,  0. ],\n",
       "       [ 0. ,  0. , -0.5,  0. ],\n",
       "       [-0.5, -0.5,  0. , -0. ],\n",
       "       [ 0. ,  0. , -0. ,  0. ]])"
      ]
     },
     "execution_count": 2,
     "metadata": {},
     "output_type": "execute_result"
    }
   ],
   "source": [
    "def func(k):\n",
    "    H = np.array([\n",
    "        [3., np.exp(-3j*k), np.exp(-2j*k), np.exp(-1j*k)],\n",
    "        [1, 0, 0, 0],\n",
    "        [0, 1, 0, 0],\n",
    "        [0, 0, 1, 0]\n",
    "    ])\n",
    "    return H\n",
    "\n",
    "n_band = len(func(0))\n",
    "axis = 1. - 0.4j\n",
    "hamiltonian = obtain_non_Hermitian_Hamiltonian(n_band=n_band, func=func, compress_ratio=0.75, axis=axis)\n",
    "#print(hamiltonian.get_axis())\n",
    "\n",
    "model =  obtain_non_Hermitian_model(n_band=n_band, func=func, compress_ratio=0.75, axis=axis)\n",
    "#print(model.Hamiltonian.get_axis())\n",
    "model.get_winding_matrix()"
   ]
  },
  {
   "cell_type": "code",
   "execution_count": null,
   "id": "ee54e884",
   "metadata": {},
   "outputs": [],
   "source": [
    "hamiltonian.get_energies(0)"
   ]
  },
  {
   "cell_type": "code",
   "execution_count": 5,
   "id": "81927795",
   "metadata": {},
   "outputs": [
    {
     "name": "stdout",
     "output_type": "stream",
     "text": [
      "[[ 0.   0.  -0.5  0. ]\n",
      " [ 0.   0.  -0.5  0. ]\n",
      " [-0.5 -0.5  0.   0. ]\n",
      " [ 0.   0.   0.   0. ]]\n"
     ]
    },
    {
     "data": {
      "text/markdown": [
       "$\\sigma_1$ $\\sigma_2$ "
      ],
      "text/plain": [
       "<IPython.core.display.Markdown object>"
      ]
     },
     "metadata": {},
     "output_type": "display_data"
    }
   ],
   "source": [
    "_braid_operators = [BraidOperator(v) for v in [2,1]]\n",
    "_model = obtain_model_braid(n_band, _braid_operators)\n",
    "print(_model.get_winding_matrix())\n",
    "show_braid_words(_model.get_braid_words())"
   ]
  },
  {
   "cell_type": "code",
   "execution_count": null,
   "id": "d385d18b",
   "metadata": {},
   "outputs": [],
   "source": [
    "import matplotlib.pyplot as plt\n",
    "\n",
    "ax = plt.figure().add_subplot(projection='3d')\n",
    "\n",
    "# ks = np.linspace(0, 2 * np.pi, 100)\n",
    "# Es = np.array([hamiltonian.get_energies_origin(k) for k in ks])\n",
    "# for index in range(n_band):\n",
    "#     x = np.real(Es[:, index])\n",
    "#     y = np.imag(Es[:, index])\n",
    "#     ax.scatter(x, y, ks, label='{0}'.format(index+1))\n",
    "\n",
    "ks = np.linspace(0, 2 * np.pi, 100)\n",
    "Es = np.array([model.get_energies(k) for k in ks])\n",
    "for index in range(n_band):\n",
    "    x = np.real(Es[:, index])\n",
    "    y = np.imag(Es[:, index])\n",
    "    ax.plot(x, y, ks, label='Flatten {0}'.format(index+1))\n",
    "\n",
    "ax.legend(loc='upper right')\n",
    "\n",
    "plt.show()"
   ]
  },
  {
   "cell_type": "code",
   "execution_count": null,
   "id": "9812ea8e",
   "metadata": {},
   "outputs": [],
   "source": [
    "braid_operator_list = [\n",
    "    BraidOperator(1),BraidOperator(-1),\n",
    "    BraidOperator(2), BraidOperator(-2)\n",
    "    #BraidOperator(3), \n",
    "]\n",
    "generator = GeneratorBraid(n_band=n_band, braid_operator_list=braid_operator_list)\n",
    "\n",
    "models, braid_operator_list_gen = generator.get_all_combination_generate_sample(n_length=4)\n",
    "print(\"The number of braids: \", len(braid_operator_list_gen))\n",
    "# for operator_list in braid_operator_list_gen[:10]:\n",
    "#     show_braid_words(operator_list)"
   ]
  },
  {
   "cell_type": "code",
   "execution_count": null,
   "id": "f90b12aa",
   "metadata": {},
   "outputs": [],
   "source": [
    "sfunc = partial(similarity_function, perturbations=perturbations, fast_mode=True)\n",
    "for i, _model in enumerate(models):\n",
    "    if sfunc(_model, model):\n",
    "        #print('FFF')\n",
    "        show_braid_words(braid_operator_list_gen[i])\n",
    "        break\n",
    "        \n",
    "    #print(i)\n",
    "    if (i+1)%(int(len(models)/10)) == 0:\n",
    "        print(np.round((i+1)/len(models)*100,1))"
   ]
  },
  {
   "cell_type": "code",
   "execution_count": null,
   "id": "cea49dd6",
   "metadata": {},
   "outputs": [],
   "source": [
    "show_braid_words(obtain_model_braid(3, braid_operators=[BraidOperator(1),BraidOperator(1),BraidOperator(2)]).get_braid_words())"
   ]
  },
  {
   "cell_type": "code",
   "execution_count": null,
   "id": "fba15c8f",
   "metadata": {},
   "outputs": [],
   "source": []
  }
 ],
 "metadata": {
  "kernelspec": {
   "display_name": "Python 3 (ipykernel)",
   "language": "python",
   "name": "python3"
  },
  "language_info": {
   "codemirror_mode": {
    "name": "ipython",
    "version": 3
   },
   "file_extension": ".py",
   "mimetype": "text/x-python",
   "name": "python",
   "nbconvert_exporter": "python",
   "pygments_lexer": "ipython3",
   "version": "3.8.13"
  }
 },
 "nbformat": 4,
 "nbformat_minor": 5
}
